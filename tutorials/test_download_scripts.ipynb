{
 "cells": [
  {
   "cell_type": "markdown",
   "source": [
    "# This notebook is to test working of the download scripts"
   ],
   "metadata": {}
  },
  {
   "cell_type": "markdown",
   "source": [
    "## Launch EVA DB\n",
    "Run the command `python eva.py` in the server where you want to deploy EVA"
   ],
   "metadata": {}
  },
  {
   "cell_type": "code",
   "execution_count": null,
   "source": [
    "import nest_asyncio\n",
    "import sys\n",
    "\n",
    "# eva lib\n",
    "sys.path.insert(0,'..')\n",
    "from src.server.db_api import connect"
   ],
   "outputs": [],
   "metadata": {}
  },
  {
   "cell_type": "markdown",
   "source": [
    "## Establish connection with EVA"
   ],
   "metadata": {}
  },
  {
   "cell_type": "code",
   "execution_count": null,
   "source": [
    "nest_asyncio.apply()\n",
    "connection = connect(host = '0.0.0.0', port = 5432) # hostname, port of the server where EVADB is running\n",
    "cursor = connection.cursor()"
   ],
   "outputs": [],
   "metadata": {}
  },
  {
   "cell_type": "markdown",
   "source": [
    "## Download a dataset of choice from cloud\n",
    "- Available datasets can be found at the link [here](https://drive.google.com/drive/folders/1UpVOYje3llxE9EDrMNOrjtjzFAsnnjQt)"
   ],
   "metadata": {}
  },
  {
   "cell_type": "code",
   "execution_count": null,
   "source": [
    "%%bash\n",
    "sh ../script/data/download_dataset.sh bddtest\n",
    "tree ../data/datasets/bddtest"
   ],
   "outputs": [],
   "metadata": {}
  },
  {
   "cell_type": "markdown",
   "source": [
    "## Download a custom model of choice from cloud\n",
    "- You need to do this only if your UDF requires a custom model for execution. \n",
    "- For example, our object_detection UDF uses a model from torchvision so this step is not required"
   ],
   "metadata": {}
  },
  {
   "cell_type": "code",
   "execution_count": null,
   "source": [
    "%%bash\n",
    "sh ../script/data/download_model.sh vehicle_make_predictor\n",
    "tree ../data/models/vehicle_make_predictor"
   ],
   "outputs": [],
   "metadata": {}
  },
  {
   "cell_type": "code",
   "execution_count": null,
   "source": [],
   "outputs": [],
   "metadata": {}
  }
 ],
 "metadata": {
  "orig_nbformat": 4,
  "language_info": {
   "name": "python",
   "version": "3.7.6",
   "mimetype": "text/x-python",
   "codemirror_mode": {
    "name": "ipython",
    "version": 3
   },
   "pygments_lexer": "ipython3",
   "nbconvert_exporter": "python",
   "file_extension": ".py"
  },
  "kernelspec": {
   "name": "python3",
   "display_name": "Python 3.7.6 64-bit ('eva': conda)"
  },
  "interpreter": {
   "hash": "a16be38a804a26b41db695620f6190fc19334cc9bde71abc2ed265e46c5cee6a"
  }
 },
 "nbformat": 4,
 "nbformat_minor": 2
}