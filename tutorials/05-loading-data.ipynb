{
 "cells": [
  {
   "cell_type": "markdown",
   "id": "9aa3c1b1-1587-45de-baaf-e0ccec1ddd8f",
   "metadata": {},
   "source": [
    "# MOVIE ANALYSIS"
   ]
  },
  {
   "cell_type": "markdown",
   "id": "573bbbff-e4e9-4a5e-a43f-8feb51d3124f",
   "metadata": {},
   "source": [
    "<table align=\"left\">\n",
    "  <td>\n",
    "    <a target=\"_blank\" href=\"https://colab.research.google.com/github/georgia-tech-db/eva/blob/master/tutorials/05-loading-data.ipynb\"><img src=\"https://www.tensorflow.org/images/colab_logo_32px.png\" /> Run on Google Colab</a>\n",
    "  </td>\n",
    "  <td>\n",
    "    <a target=\"_blank\" href=\"https://github.com/georgia-tech-db/eva/blob/master/tutorials/05-loading-data.ipynb\"><img src=\"https://www.tensorflow.org/images/GitHub-Mark-32px.png\" /> View source on GitHub</a>\n",
    "  </td>\n",
    "  <td>\n",
    "    <a target=\"_blank\" href=\"https://raw.githubusercontent.com/georgia-tech-db/eva/master/tutorials/05-loading-data.ipynb\"><img src=\"https://www.tensorflow.org/images/download_logo_32px.png\" /> Download notebook</a>\n",
    "  </td>\n",
    "</table>"
   ]
  },
  {
   "cell_type": "markdown",
   "id": "27d7ebfa-c0b6-4a15-bd17-59a4e1cb7c77",
   "metadata": {},
   "source": [
    "### Start EVA Server\n",
    "We are reusing the start server notebook for launching the EVA server"
   ]
  },
  {
   "cell_type": "code",
   "execution_count": null,
   "id": "c758b60b-e75e-4128-805d-46a210638daf",
   "metadata": {},
   "outputs": [],
   "source": [
    "!wget -nc \"https://raw.githubusercontent.com/georgia-tech-db/eva/master/tutorials/00-start-eva-server.ipynb\"\n",
    "%run 00-start-eva-server.ipynb\n",
    "cursor = connect_to_server()"
   ]
  },
  {
   "cell_type": "code",
   "execution_count": 7,
   "id": "c2c02070-1635-4b09-9916-c7ae828eeda2",
   "metadata": {},
   "outputs": [],
   "source": [
    "import sys\n",
    "sys.path.insert(0,'..')\n",
    "from eva.server.db_api import connect\n",
    "\n",
    "import nest_asyncio\n",
    "nest_asyncio.apply()\n",
    "connection = connect(host = '0.0.0.0', port = 5432) # hostname, port of the server where EVADB is running\n",
    "\n",
    "cursor = connection.cursor()"
   ]
  },
  {
   "cell_type": "markdown",
   "id": "ca54c9e5-6ec9-4aea-b421-ad1fa3ddcdd1",
   "metadata": {},
   "source": [
    "### Video Files\n",
    " - Download dataset"
   ]
  },
  {
   "cell_type": "code",
   "execution_count": 2,
   "id": "62def7ce-3f83-4fa0-b9fd-2e553b3919ba",
   "metadata": {},
   "outputs": [
    {
     "name": "stdout",
     "output_type": "stream",
     "text": [
      "File ‘bddtest.zip’ already there; not retrieving.\n",
      "\n",
      "Archive:  bddtest.zip\n"
     ]
    }
   ],
   "source": [
    "# sample dataset of 2 videos\n",
    "!wget -nc https://www.dropbox.com/s/jnkil8py0ng5za5/bddtest.zip\n",
    "\n",
    "# unzip\n",
    "!unzip -n bddtest.zip"
   ]
  },
  {
   "cell_type": "markdown",
   "id": "463ce1f8-8333-4e11-ab0a-dda6d9bb067b",
   "metadata": {},
   "source": [
    "- Load the 2 videos"
   ]
  },
  {
   "cell_type": "code",
   "execution_count": 3,
   "id": "95b1e0a4-d9f5-40f2-830f-69c8c9f21172",
   "metadata": {
    "tags": []
   },
   "outputs": [
    {
     "name": "stdout",
     "output_type": "stream",
     "text": [
      "@status: 0\n",
      "@batch: Batch Object:\n",
      "@dataframe:                                                    0\n",
      "0  Video successfully added at location: bddtest/...\n",
      "@batch_size: 1\n",
      "@identifier_column: None\n",
      "@query_time: 0.035945682000601664\n",
      "@status: 0\n",
      "@batch: Batch Object:\n",
      "@dataframe:                                                    0\n",
      "0  Video successfully added at location: bddtest/...\n",
      "@batch_size: 1\n",
      "@identifier_column: None\n",
      "@query_time: 0.02204383199568838\n"
     ]
    }
   ],
   "source": [
    "cursor.execute('LOAD FILE \"./bddtest/videos/bddtest_00a2e3ca5c856cde.mp4\" INTO bddtest_1;')\n",
    "response = cursor.fetch_all()\n",
    "print(response)\n",
    "\n",
    "cursor.execute('LOAD FILE \"./bddtest/videos/bddtest_00a395fed60c0b47.mp4\" INTO bddtest_2;')\n",
    "response = cursor.fetch_all()\n",
    "print(response)"
   ]
  },
  {
   "cell_type": "markdown",
   "id": "d7b7c9d5-2eae-4d57-a3f1-78792fca0b83",
   "metadata": {
    "tags": []
   },
   "source": [
    "- Create a table to store the metadata information "
   ]
  },
  {
   "cell_type": "code",
   "execution_count": 4,
   "id": "8897b9bb-0993-4eb0-959d-6484a651a90f",
   "metadata": {
    "tags": []
   },
   "outputs": [
    {
     "name": "stdout",
     "output_type": "stream",
     "text": [
      "@status: 0\n",
      "@batch: Batch Object:\n",
      "@dataframe: Empty DataFrame\n",
      "Columns: []\n",
      "Index: []\n",
      "@batch_size: 0\n",
      "@identifier_column: None\n",
      "@query_time: 0.026316527000744827\n"
     ]
    }
   ],
   "source": [
    "create_table_query = f\"\"\" \n",
    "\n",
    "    CREATE TABLE IF NOT EXISTS bddtestmeta(\n",
    "        id INTEGER UNIQUE,\n",
    "        frame_id INTEGER,\n",
    "        video_id INTEGER,\n",
    "        dataset_name TEXT(30),\n",
    "        label TEXT(30),\n",
    "        bbox NDARRAY FLOAT32(4),\n",
    "        object_id INTEGER\n",
    "    );\n",
    "    \n",
    "    \"\"\"\n",
    "\n",
    "cursor.execute(create_table_query)\n",
    "response = cursor.fetch_all()\n",
    "print(response)"
   ]
  },
  {
   "cell_type": "markdown",
   "id": "574f8c04-c934-4654-8558-576e34e8735d",
   "metadata": {},
   "source": [
    "- Load the 2 corresponding CSV files"
   ]
  },
  {
   "cell_type": "code",
   "execution_count": null,
   "id": "cf8415ac-f9e0-4bee-b2aa-b4e104b10a4b",
   "metadata": {},
   "outputs": [],
   "source": [
    "cursor.execute(\"LOAD FILE 'bddtest/info/bddtest_00a2e3ca5c856cde.csv' INTO bddtestmeta WITH FORMAT CSV;\")\n",
    "response = cursor.fetch_all()\n",
    "print(response)\n",
    "\n",
    "cursor.execute(\"LOAD FILE 'bddtest/info/bddtest_00a395fed60c0b47.csv' INTO bddtestmeta WITH FORMAT CSV;\")\n",
    "response = cursor.fetch_all()\n",
    "print(response)"
   ]
  },
  {
   "cell_type": "markdown",
   "id": "8ace1640-fb0c-4e70-a595-f7e9befdf757",
   "metadata": {},
   "source": [
    "## Query from the dataset\n",
    "- Run a test query on the loaded video"
   ]
  },
  {
   "cell_type": "code",
   "execution_count": 8,
   "id": "69e378d4-4d30-47cf-84c8-8fe56afe517e",
   "metadata": {},
   "outputs": [
    {
     "name": "stdout",
     "output_type": "stream",
     "text": [
      "@status: 0\n",
      "@batch: Batch Object:\n",
      "@dataframe:     bddtest_1.id                      fastrcnnobjectdetector.labels  \\\n",
      "0              0  [stop sign, car, stop sign, car, car, car, car...   \n",
      "1              1  [stop sign, car, car, stop sign, car, car, car...   \n",
      "2              2  [stop sign, car, car, stop sign, car, car, car...   \n",
      "3              3  [stop sign, car, car, stop sign, car, car, car...   \n",
      "4              4  [stop sign, car, car, car, car, car, stop sign...   \n",
      "5              5  [stop sign, car, car, car, car, stop sign, car...   \n",
      "6              6  [stop sign, car, car, car, car, stop sign, car...   \n",
      "7              7  [stop sign, car, car, car, car, stop sign, car...   \n",
      "8              8  [stop sign, car, car, car, car, stop sign, car...   \n",
      "9              9  [stop sign, car, car, car, car, car, stop sign...   \n",
      "10            10  [stop sign, car, car, car, car, car, stop sign...   \n",
      "11            11  [stop sign, car, car, car, car, car, stop sign...   \n",
      "12            12  [stop sign, car, car, car, car, stop sign, car...   \n",
      "13            13  [stop sign, car, car, car, car, car, stop sign...   \n",
      "14            14  [stop sign, car, car, car, car, car, car, car,...   \n",
      "15            15  [stop sign, car, car, car, car, stop sign, car...   \n",
      "16            16  [stop sign, car, car, stop sign, car, car, car...   \n",
      "17            17  [stop sign, car, car, stop sign, car, car, car...   \n",
      "18            18  [stop sign, car, car, stop sign, car, car, car...   \n",
      "19            19  [stop sign, car, car, stop sign, car, car, car...   \n",
      "20             0  [stop sign, car, stop sign, car, car, car, car...   \n",
      "21             1  [stop sign, car, car, stop sign, car, car, car...   \n",
      "22             2  [stop sign, car, car, stop sign, car, car, car...   \n",
      "23             3  [stop sign, car, car, stop sign, car, car, car...   \n",
      "24             4  [stop sign, car, car, car, car, car, stop sign...   \n",
      "25             5  [stop sign, car, car, car, car, stop sign, car...   \n",
      "26             6  [stop sign, car, car, car, car, stop sign, car...   \n",
      "27             7  [stop sign, car, car, car, car, stop sign, car...   \n",
      "28             8  [stop sign, car, car, car, car, stop sign, car...   \n",
      "29             9  [stop sign, car, car, car, car, car, stop sign...   \n",
      "30            10  [stop sign, car, car, car, car, car, stop sign...   \n",
      "31            11  [stop sign, car, car, car, car, car, stop sign...   \n",
      "32            12  [stop sign, car, car, car, car, stop sign, car...   \n",
      "33            13  [stop sign, car, car, car, car, car, stop sign...   \n",
      "34            14  [stop sign, car, car, car, car, car, car, car,...   \n",
      "35            15  [stop sign, car, car, car, car, stop sign, car...   \n",
      "36            16  [stop sign, car, car, stop sign, car, car, car...   \n",
      "37            17  [stop sign, car, car, stop sign, car, car, car...   \n",
      "38            18  [stop sign, car, car, stop sign, car, car, car...   \n",
      "39            19  [stop sign, car, car, stop sign, car, car, car...   \n",
      "\n",
      "                        fastrcnnobjectdetector.bboxes  \\\n",
      "0   [[343.097442627, 195.4741821289, 405.721130371...   \n",
      "1   [[334.6392822266, 191.1281433105, 398.79653930...   \n",
      "2   [[327.6994934082, 189.3657836914, 392.40979003...   \n",
      "3   [[323.3418884277, 187.5710754395, 388.48910522...   \n",
      "4   [[319.9740600586, 186.371383667, 385.494506835...   \n",
      "5   [[315.4874267578, 184.0178833008, 382.19509887...   \n",
      "6   [[311.832244873, 184.0472717285, 379.105621337...   \n",
      "7   [[307.4016418457, 183.0279998779, 374.34979248...   \n",
      "8   [[302.5659790039, 180.6338806152, 370.37249755...   \n",
      "9   [[298.9287719727, 179.3368682861, 368.86962890...   \n",
      "10  [[296.3753051758, 177.8909454346, 366.65948486...   \n",
      "11  [[290.900604248, 176.7446594238, 361.315673828...   \n",
      "12  [[288.2717895508, 174.8643493652, 358.72824096...   \n",
      "13  [[284.2260131836, 174.2529602051, 355.75827026...   \n",
      "14  [[279.9111633301, 172.367767334, 354.378875732...   \n",
      "15  [[275.9497375488, 170.4543914795, 351.43450927...   \n",
      "16  [[273.2353820801, 167.7679138184, 347.34454345...   \n",
      "17  [[268.1208496094, 165.2581787109, 343.94210815...   \n",
      "18  [[265.0013427734, 163.6615753174, 340.21258544...   \n",
      "19  [[259.8805541992, 161.1826782227, 339.23223876...   \n",
      "20  [[343.097442627, 195.4741821289, 405.721130371...   \n",
      "21  [[334.6392822266, 191.1281433105, 398.79653930...   \n",
      "22  [[327.6994934082, 189.3657836914, 392.40979003...   \n",
      "23  [[323.3418884277, 187.5710754395, 388.48910522...   \n",
      "24  [[319.9740600586, 186.371383667, 385.494506835...   \n",
      "25  [[315.4874267578, 184.0178833008, 382.19509887...   \n",
      "26  [[311.832244873, 184.0472717285, 379.105621337...   \n",
      "27  [[307.4016418457, 183.0279998779, 374.34979248...   \n",
      "28  [[302.5659790039, 180.6338806152, 370.37249755...   \n",
      "29  [[298.9287719727, 179.3368682861, 368.86962890...   \n",
      "30  [[296.3753051758, 177.8909454346, 366.65948486...   \n",
      "31  [[290.900604248, 176.7446594238, 361.315673828...   \n",
      "32  [[288.2717895508, 174.8643493652, 358.72824096...   \n",
      "33  [[284.2260131836, 174.2529602051, 355.75827026...   \n",
      "34  [[279.9111633301, 172.367767334, 354.378875732...   \n",
      "35  [[275.9497375488, 170.4543914795, 351.43450927...   \n",
      "36  [[273.2353820801, 167.7679138184, 347.34454345...   \n",
      "37  [[268.1208496094, 165.2581787109, 343.94210815...   \n",
      "38  [[265.0013427734, 163.6615753174, 340.21258544...   \n",
      "39  [[259.8805541992, 161.1826782227, 339.23223876...   \n",
      "\n",
      "                        fastrcnnobjectdetector.scores  \n",
      "0   [0.9981474876, 0.9964281917000001, 0.994714677...  \n",
      "1   [0.9978869557000001, 0.9953299761000001, 0.994...  \n",
      "2   [0.9990385771, 0.9947265983, 0.9944388866, 0.9...  \n",
      "3   [0.9989394546, 0.9953050613000001, 0.994326889...  \n",
      "4   [0.9987252355, 0.9948284030000001, 0.992198407...  \n",
      "5   [0.9990416169, 0.9954633117, 0.9914832711, 0.9...  \n",
      "6   [0.9990183115000001, 0.9958524704, 0.994458437...  \n",
      "7   [0.9987213016, 0.9967773557, 0.995477736000000...  \n",
      "8   [0.9987788796, 0.9963755012000001, 0.994629442...  \n",
      "9   [0.9989332557, 0.9951727986000001, 0.992852389...  \n",
      "10  [0.9988330007, 0.9963194132000001, 0.993861198...  \n",
      "11  [0.9984756112000001, 0.9955522418, 0.995419502...  \n",
      "12  [0.9988971949000001, 0.9956197143000001, 0.995...  \n",
      "13  [0.998880446, 0.9963383675, 0.9951064587, 0.99...  \n",
      "14  [0.9992144108000001, 0.996243, 0.9955233335, 0...  \n",
      "15  [0.9992043376, 0.9949402809000001, 0.993791997...  \n",
      "16  [0.9990880489, 0.9960907102000001, 0.994690418...  \n",
      "17  [0.9988904595, 0.99519521, 0.995152235, 0.9935...  \n",
      "18  [0.9989151955000001, 0.9953479171, 0.994166851...  \n",
      "19  [0.9991793036000001, 0.9965285659, 0.995107770...  \n",
      "20  [0.9981474876, 0.9964281917000001, 0.994714677...  \n",
      "21  [0.9978869557000001, 0.9953299761000001, 0.994...  \n",
      "22  [0.9990385771, 0.9947265983, 0.9944388866, 0.9...  \n",
      "23  [0.9989394546, 0.9953050613000001, 0.994326889...  \n",
      "24  [0.9987252355, 0.9948284030000001, 0.992198407...  \n",
      "25  [0.9990416169, 0.9954633117, 0.9914832711, 0.9...  \n",
      "26  [0.9990183115000001, 0.9958524704, 0.994458437...  \n",
      "27  [0.9987213016, 0.9967773557, 0.995477736000000...  \n",
      "28  [0.9987788796, 0.9963755012000001, 0.994629442...  \n",
      "29  [0.9989332557, 0.9951727986000001, 0.992852389...  \n",
      "30  [0.9988330007, 0.9963194132000001, 0.993861198...  \n",
      "31  [0.9984756112000001, 0.9955522418, 0.995419502...  \n",
      "32  [0.9988971949000001, 0.9956197143000001, 0.995...  \n",
      "33  [0.998880446, 0.9963383675, 0.9951064587, 0.99...  \n",
      "34  [0.9992144108000001, 0.996243, 0.9955233335, 0...  \n",
      "35  [0.9992043376, 0.9949402809000001, 0.993791997...  \n",
      "36  [0.9990880489, 0.9960907102000001, 0.994690418...  \n",
      "37  [0.9988904595, 0.99519521, 0.995152235, 0.9935...  \n",
      "38  [0.9989151955000001, 0.9953479171, 0.994166851...  \n",
      "39  [0.9991793036000001, 0.9965285659, 0.995107770...  \n",
      "@batch_size: 40\n",
      "@identifier_column: None\n",
      "@query_time: 161.77714671699505\n"
     ]
    }
   ],
   "source": [
    "cursor.execute(\"\"\"SELECT id, FastRCNNObjectDetector(data) \n",
    "                  FROM bddtest_1 \n",
    "                  WHERE id < 20;\"\"\")\n",
    "response = cursor.fetch_all()\n",
    "print(response)"
   ]
  },
  {
   "cell_type": "markdown",
   "id": "55551f98-6e3f-4088-a02f-6852b56dfc63",
   "metadata": {},
   "source": [
    "- Run a test query on the loaded metadata (CSV)"
   ]
  },
  {
   "cell_type": "code",
   "execution_count": 9,
   "id": "2990038a-00ec-4d36-aae2-82a789f2389a",
   "metadata": {},
   "outputs": [
    {
     "name": "stdout",
     "output_type": "stream",
     "text": [
      "@status: 0\n",
      "@batch: Batch Object:\n",
      "@dataframe:        bddtestmeta.id  bddtestmeta.frame_id  bddtestmeta.video_id\n",
      "0                9881                   583                     4\n",
      "1                9882                   583                     4\n",
      "2                9883                   589                     4\n",
      "3                9884                   589                     4\n",
      "4                9885                   589                     4\n",
      "...               ...                   ...                   ...\n",
      "17000            9876                   583                     4\n",
      "17001            9877                   583                     4\n",
      "17002            9878                   583                     4\n",
      "17003            9879                   583                     4\n",
      "17004            9880                   583                     4\n",
      "\n",
      "[17005 rows x 3 columns]\n",
      "@batch_size: 17005\n",
      "@identifier_column: None\n",
      "@query_time: 2.022062427000492\n"
     ]
    }
   ],
   "source": [
    "cursor.execute(\"\"\"SELECT id, frame_id, video_id \n",
    "                  FROM bddtestmeta;\"\"\")\n",
    "response = cursor.fetch_all()\n",
    "print(response)"
   ]
  },
  {
   "cell_type": "code",
   "execution_count": null,
   "id": "3c470dc7-ac2b-4e57-9027-06786a73e141",
   "metadata": {},
   "outputs": [],
   "source": []
  }
 ],
 "metadata": {
  "kernelspec": {
   "display_name": "Python 3 (ipykernel)",
   "language": "python",
   "name": "python3"
  },
  "language_info": {
   "codemirror_mode": {
    "name": "ipython",
    "version": 3
   },
   "file_extension": ".py",
   "mimetype": "text/x-python",
   "name": "python",
   "nbconvert_exporter": "python",
   "pygments_lexer": "ipython3",
   "version": "3.9.12"
  }
 },
 "nbformat": 4,
 "nbformat_minor": 5
}
