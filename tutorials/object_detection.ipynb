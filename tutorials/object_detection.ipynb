{
 "cells": [
  {
   "cell_type": "markdown",
   "id": "b18c8d8c",
   "metadata": {},
   "source": [
    "### Launch EVA DB\n",
    "Run the command `python eva.py` in the server where you want to deploy EVA"
   ]
  },
  {
   "cell_type": "markdown",
   "id": "3c5b2a6f",
   "metadata": {},
   "source": [
    "### Establish Connection With Eva DB"
   ]
  },
  {
   "cell_type": "code",
   "execution_count": null,
   "id": "62e83a0b",
   "metadata": {},
   "outputs": [],
   "source": [
    "import sys\n",
    "sys.path.insert(0,'..')\n",
    "from src.server.db_api import connect"
   ]
  },
  {
   "cell_type": "markdown",
   "id": "8e9d1fc6-190e-49e8-b3a4-505a3d092d41",
   "metadata": {},
   "source": [
    "### Reason for using nest_asyncio can be found here https://pypi.org/project/nest-asyncio/"
   ]
  },
  {
   "cell_type": "code",
   "execution_count": null,
   "id": "b78a43e3",
   "metadata": {},
   "outputs": [],
   "source": [
    "import nest_asyncio\n",
    "nest_asyncio.apply()"
   ]
  },
  {
   "cell_type": "markdown",
   "id": "6c800bb7-2619-4871-929a-c51573026c35",
   "metadata": {},
   "source": [
    "### Connect to EVA server"
   ]
  },
  {
   "cell_type": "code",
   "execution_count": null,
   "id": "1bc99e88",
   "metadata": {},
   "outputs": [],
   "source": [
    "connection = connect(host = '0.0.0.0', port = 5432) # hostname, port of the server where EVADB is running\n",
    "cursor = connection.cursor()"
   ]
  },
  {
   "cell_type": "markdown",
   "id": "6d64d3b6",
   "metadata": {},
   "source": [
    "### Upload the survellience video to analyse"
   ]
  },
  {
   "cell_type": "code",
   "execution_count": null,
   "id": "130b8561",
   "metadata": {},
   "outputs": [],
   "source": [
    "cursor.execute('UPLOAD INFILE \"../data/ua_detrac/ua_detrac.mp4\" PATH \"video.mp4\";')\n",
    "response = cursor.fetch_all()\n",
    "print(response)"
   ]
  },
  {
   "cell_type": "markdown",
   "id": "6450f505",
   "metadata": {},
   "source": [
    "### Visualize Video"
   ]
  },
  {
   "cell_type": "code",
   "execution_count": null,
   "id": "bef7026f",
   "metadata": {},
   "outputs": [],
   "source": [
    "from ipywidgets import Video\n",
    "Video.from_file(\"../data/ua_detrac/ua_detrac.mp4\", embed=True)"
   ]
  },
  {
   "cell_type": "markdown",
   "id": "686adeb5",
   "metadata": {},
   "source": [
    "### Load video into EVA"
   ]
  },
  {
   "cell_type": "code",
   "execution_count": null,
   "id": "b18cfe2a",
   "metadata": {},
   "outputs": [],
   "source": [
    "cursor.execute('LOAD DATA INFILE \"video.mp4\" INTO MyVideo;')\n",
    "response = cursor.fetch_all()\n",
    "print(response)"
   ]
  },
  {
   "cell_type": "markdown",
   "id": "c09a40cb",
   "metadata": {},
   "source": [
    "### Optional - Register FasterRCNN (object detection) model into EVA \n",
    "\n",
    "#### Syntax\n",
    "  \n",
    "  `CREATE UDF [ IF NOT EXISTS ] <name> \n",
    "      INPUT  ( [ <arg_name> <arg_data_type> ] [ , ... ] )\n",
    "      OUTPUT ( [ <result_name> <result_data_type> ] [ , ... ] )\n",
    "      TYPE  <udf_type_name>\n",
    "      IMPL  '<path_to_implementation>'`\n",
    "\n",
    "#### Required Parameters\n",
    "`<name>` - specifies the unique identifier for the UDF.\n",
    "\n",
    "`[ <arg_name> <arg_data_type> ] [ , ... ]` - specifies the name and data type of the udf input arguments. Name is kept for consistency (ignored by eva right now), arguments data type is required. `ANYDIM` means the shape is inferred at runtime.\n",
    "\n",
    "`[ <result_name> <result_data_type> ] [ , ... ]` - specifies the name and data type of the udf output arguments. \n",
    "Users can access a specific output of the UDF similar to access a column of a table. Eg. `<name>.<result_name>` \n",
    "\n",
    "`<udf_type_name>` - specifies the identifier for the type of the UDF. UDFs of the same type are assumed to be interchangeable. They should all have identical input and output arguments. For example, object classification can be one type. \n",
    "\n",
    "`<path_to_implementation>` - specifies the path to the implementation class for the UDF"
   ]
  },
  {
   "cell_type": "code",
   "execution_count": null,
   "id": "e83e5a44",
   "metadata": {},
   "outputs": [],
   "source": [
    "cursor.execute(\"\"\"CREATE UDF IF NOT EXISTS FastRCNNObjectDetector\n",
    "      INPUT  (frame NDARRAY UINT8(3, ANYDIM, ANYDIM))\n",
    "      OUTPUT (labels NDARRAY STR(ANYDIM), bboxes NDARRAY FLOAT32(ANYDIM, 4),\n",
    "                scores NDARRAY FLOAT32(ANYDIM))\n",
    "      TYPE  Classification\n",
    "      IMPL  'src/udfs/fastrcnn_object_detector.py';\n",
    "      \"\"\")\n",
    "response = cursor.fetch_all()\n",
    "print(response)"
   ]
  },
  {
   "cell_type": "markdown",
   "id": "7bbd789e",
   "metadata": {},
   "source": [
    "### Run Object detector on the video"
   ]
  },
  {
   "cell_type": "code",
   "execution_count": null,
   "id": "91bdcaca",
   "metadata": {},
   "outputs": [],
   "source": [
    "cursor.execute(\"\"\"SELECT id, Unnest(FastRCNNObjectDetector(data)) FROM MyVideo\"\"\")\n",
    "response = cursor.fetch_all()"
   ]
  },
  {
   "cell_type": "markdown",
   "id": "c4639154-e298-48a3-b276-4f0ba7fbbcd1",
   "metadata": {},
   "source": [
    "### Query output analysis"
   ]
  },
  {
   "cell_type": "code",
   "execution_count": null,
   "id": "b45c543d-4148-4b3f-ab52-cd6da0b9455b",
   "metadata": {},
   "outputs": [],
   "source": [
    "random_index = 0\n",
    "print(f\"Total of {len(response.batch.frames)} frames found with objects detected in the given video\")\n",
    "print(f\"For example, frame id {response.batch.frames.iloc[random_index]['id']} \\\n",
    "      contains the label: {response.batch.frames.iloc[random_index]['labels']} \\\n",
    "      with the bounding box: {response.batch.frames.iloc[random_index]['boxes']}\")"
   ]
  },
  {
   "cell_type": "markdown",
   "id": "d81ed233",
   "metadata": {},
   "source": [
    "### Visualize output of Object detector on the video"
   ]
  },
  {
   "cell_type": "code",
   "execution_count": null,
   "id": "ecc977d8",
   "metadata": {},
   "outputs": [],
   "source": [
    "import cv2\n",
    "def annotate_video(detections, input_video_path, output_video_path):\n",
    "    color=(0,255,0)\n",
    "    thickness=3\n",
    "\n",
    "    vcap = cv2.VideoCapture(input_path)\n",
    "    width = int(vcap.get(3))\n",
    "    height = int(vcap.get(4))\n",
    "    fps = vcap.get(5)\n",
    "    fourcc = cv2.VideoWriter_fourcc(*'H264') #codec\n",
    "    video=cv2.VideoWriter(output_path, fourcc, fps, (width,height))\n",
    "\n",
    "    frame_id = 0\n",
    "    # Capture frame-by-frame\n",
    "    ret, frame = vcap.read()  # ret = 1 if the video is captured; frame is the image\n",
    "\n",
    "    while ret:\n",
    "        df = detections\n",
    "        df = df[['boxes', 'labels']][df.id == frame_id]\n",
    "        if df.size:\n",
    "            for bbox, label in df.values:\n",
    "                x1, y1 = bbox[0]\n",
    "                x2, y2 = bbox[1]\n",
    "                x1, y1, x2, y2 = int(x1), int(y1), int(x2), int(y2)\n",
    "                img=cv2.rectangle(frame, (x1, y1), (x2, y2), color, thickness) # object bbox\n",
    "                cv2.putText(img, label, (x1, y1-10), cv2.FONT_HERSHEY_SIMPLEX, 0.9, color, thickness-1) # object label\n",
    "            video.write(img)\n",
    "\n",
    "        frame_id+=1\n",
    "        ret, frame = vcap.read()\n",
    "\n",
    "    video.release()\n",
    "    vcap.release()"
   ]
  },
  {
   "cell_type": "code",
   "execution_count": null,
   "id": "7a2dee29",
   "metadata": {},
   "outputs": [],
   "source": [
    "from ipywidgets import Video\n",
    "input_path = '../data/ua_detrac/ua_detrac.mp4'\n",
    "output_path = 'video.mp4'\n",
    "annotate_video(response.batch.frames, input_path, output_path)\n",
    "Video.from_file(output_path)"
   ]
  },
  {
   "cell_type": "code",
   "execution_count": null,
   "id": "881250ab-a669-42f1-a17f-250d3b5830f9",
   "metadata": {},
   "outputs": [],
   "source": []
  }
 ],
 "metadata": {
  "kernelspec": {
   "display_name": "Python 3",
   "language": "python",
   "name": "python3"
  },
  "language_info": {
   "codemirror_mode": {
    "name": "ipython",
    "version": 3
   },
   "file_extension": ".py",
   "mimetype": "text/x-python",
   "name": "python",
   "nbconvert_exporter": "python",
   "pygments_lexer": "ipython3",
   "version": "3.7.6"
  }
 },
 "nbformat": 4,
 "nbformat_minor": 5
}
