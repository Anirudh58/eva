{
 "cells": [
  {
   "cell_type": "markdown",
   "id": "0118e519-3083-4d7c-b608-152631e2218d",
   "metadata": {},
   "source": [
    "# This notebook is to demonstrate an end-to-end usecase for EVA"
   ]
  },
  {
   "cell_type": "markdown",
   "id": "20c6ab2a-32b3-49e2-93d1-3b3faf1e8846",
   "metadata": {},
   "source": [
    "## Launch EVA DB\n",
    "Run the command `python eva.py` in the server where you want to deploy EVA"
   ]
  },
  {
   "cell_type": "code",
   "execution_count": null,
   "id": "c1eadf20-9ffc-4be5-b9f7-33359183bab4",
   "metadata": {},
   "outputs": [],
   "source": [
    "import cv2\n",
    "import json\n",
    "import nest_asyncio\n",
    "import os\n",
    "import sys\n",
    "from tqdm import tqdm\n",
    "\n",
    "import numpy as np\n",
    "import pandas as pd\n",
    "\n",
    "# eva lib\n",
    "sys.path.insert(0,'..')\n",
    "from eva.server.db_api import connect"
   ]
  },
  {
   "cell_type": "markdown",
   "id": "f302bba1-2dc0-4286-acd8-e06547ccaa3d",
   "metadata": {},
   "source": [
    "## Establish connection with EVA"
   ]
  },
  {
   "cell_type": "code",
   "execution_count": null,
   "id": "78fdfbda-d9cf-48b6-abf0-c09a035d1471",
   "metadata": {},
   "outputs": [],
   "source": [
    "nest_asyncio.apply()\n",
    "connection = connect(host = '0.0.0.0', port = 5432) # hostname, port of the server where EVADB is running\n",
    "cursor = connection.cursor()"
   ]
  },
  {
   "cell_type": "markdown",
   "id": "61aec239-13dc-4fb1-bbef-d4ad725a1487",
   "metadata": {},
   "source": [
    "## Download a dataset of choice from cloud\n",
    "- Available datasets can be found at the link [here](https://drive.google.com/drive/folders/1UpVOYje3llxE9EDrMNOrjtjzFAsnnjQt)\n",
    "- Refer the [documentation](https://evagatech.readthedocs.io/en/latest/guide/packaging.html) to know how to package datasets or models. "
   ]
  },
  {
   "cell_type": "code",
   "execution_count": null,
   "id": "31cad577-ce09-49d2-8590-b9124cfec1ba",
   "metadata": {},
   "outputs": [],
   "source": [
    "%%bash\n",
    "sh ../script/data/download_dataset.sh bddtest\n",
    "tree ~/.eva/data/datasets/bddtest"
   ]
  },
  {
   "cell_type": "markdown",
   "id": "6cfeb302-1373-4fff-9b76-32d89ffe577f",
   "metadata": {},
   "source": [
    "## Download a custom model of choice from cloud\n",
    "- Available models can be found at the link [here](https://drive.google.com/drive/folders/1E5pEl01HmvoPJltVblcHZnIzMYxb9yxS)\n",
    "- You need to do this only if your UDF requires a custom model for execution. For example, our object_detection UDF uses a model from torchvision so this step is not required"
   ]
  },
  {
   "cell_type": "code",
   "execution_count": null,
   "id": "7e02c9eb-61a3-4180-b870-22f15bb8167f",
   "metadata": {},
   "outputs": [],
   "source": [
    "%%bash\n",
    "sh ../script/data/download_model.sh vehicle_make_predictor\n",
    "tree ~/.eva/data/models/vehicle_make_predictor"
   ]
  },
  {
   "cell_type": "markdown",
   "id": "1caf8f61-24c4-4263-906f-c53174bc8a42",
   "metadata": {},
   "source": [
    "## Utility Methods"
   ]
  },
  {
   "cell_type": "markdown",
   "id": "d5b48ba2-1bd9-4aaf-8ec5-cb9ff6ac80b7",
   "metadata": {},
   "source": [
    "### Method to create the meta table\n",
    "- The given sample query is specific to BDD. If your video dataset requires a different schema, change the query accordingly"
   ]
  },
  {
   "cell_type": "code",
   "execution_count": null,
   "id": "cd9523df-98e5-4226-aef1-efb72e222d93",
   "metadata": {},
   "outputs": [],
   "source": [
    "def create_meta_table(dataset_name):\n",
    "    \"\"\"\n",
    "    Creates a meta table for the given dataset\n",
    "    \n",
    "    Args:\n",
    "        dataset_name (string) - name of dataset\n",
    "        \n",
    "    Returns:\n",
    "        True/False depending on if table creation was successful or not.\n",
    "    \"\"\"\n",
    "    \n",
    "    # by default the table name is {dataset_name}meta\n",
    "    table_name = dataset_name + \"meta\"\n",
    "    \n",
    "    create_table_query = f\"\"\" \n",
    "\n",
    "    CREATE TABLE IF NOT EXISTS {table_name} (\n",
    "        id INTEGER UNIQUE,\n",
    "        frame_id INTEGER,\n",
    "        video_id INTEGER,\n",
    "        dataset_name TEXT(30),\n",
    "        label TEXT(30),\n",
    "        bbox NDARRAY FLOAT32(4),\n",
    "        object_id INTEGER\n",
    "    );\n",
    "    \n",
    "    \"\"\"\n",
    "    \n",
    "    cursor.execute(create_table_query)\n",
    "    response = cursor.fetch_all()\n",
    "    \n",
    "    if response.status == '0':\n",
    "        return True\n",
    "    else:\n",
    "        return False"
   ]
  },
  {
   "cell_type": "markdown",
   "id": "397bf56e-e181-455d-96bf-32ecd54adc95",
   "metadata": {},
   "source": [
    "### Method to load a video"
   ]
  },
  {
   "cell_type": "code",
   "execution_count": null,
   "id": "705224e7-4716-4335-ae47-596c761818a7",
   "metadata": {},
   "outputs": [],
   "source": [
    "def load_video(dataset_name, video_path, info_path):\n",
    "    \"\"\"\n",
    "    Takes the path to 1 video and its corresponding meta file. \n",
    "    Iterates over each frame of the video and performs an INSERT operation on the table\n",
    "    \n",
    "    Args:\n",
    "        dataset_name (string) - name of the dataset this video belongs to. There should be table existing with this name\n",
    "        video_path (string) - path of the video to be loaded\n",
    "        info_path (string) - path of the meta file that contains info about the video\n",
    "    \"\"\"\n",
    "    \n",
    "    table_name = dataset_name + \"meta\"\n",
    "    #print(f\"Loading video from: {video_path} info from: {info_path} into {table_name}\")\n",
    "    \n",
    "    # load meta\n",
    "    meta_name_with_ext = info_path.split('/')[-1]\n",
    "    meta_name = meta_name_with_ext.split('.')[0]\n",
    "    upload_meta_query = f'UPLOAD INFILE \"{info_path}\" PATH \"{meta_name_with_ext}\";'\n",
    "    load_meta_query = f'LOAD DATA INFILE \"{meta_name_with_ext}\" INTO {table_name} WITH FORMAT CSV;'\n",
    "    \n",
    "    #print(f\"upload_meta_query: {upload_meta_query}\")\n",
    "    #print(f\"load_meta_query: {load_meta_query}\")\n",
    "    \n",
    "    cursor.execute(upload_meta_query)\n",
    "    meta_upload_response = cursor.fetch_all()\n",
    "    #print(f\"response from upload query: {meta_upload_response}\")\n",
    "    \n",
    "    cursor.execute(load_meta_query)\n",
    "    meta_load_response = cursor.fetch_all()\n",
    "    #print(f\"response from load query: {meta_load_response}\")\n",
    "    \n",
    "    if int(meta_load_response.status) != 0:\n",
    "        print(f\"Loading meta failed! \\nUpload response: {meta_upload_response} \\nLoad response: {meta_load_response}\")\n",
    "        return False\n",
    "    \n",
    "    # load video\n",
    "    video_name_with_ext = video_path.split('/')[-1]\n",
    "    video_name = video_name_with_ext.split('.')[0]\n",
    "    upload_video_query = f'UPLOAD INFILE \"{video_path}\" PATH \"{video_name_with_ext}\";'\n",
    "    load_video_query = f'LOAD DATA INFILE \"{video_name_with_ext}\" INTO {video_name} WITH FORMAT VIDEO;'\n",
    "    \n",
    "    #print(f\"upload_video_query: {upload_video_query}\")\n",
    "    #print(f\"load_video_query: {load_video_query}\")\n",
    "    \n",
    "    cursor.execute(upload_video_query)\n",
    "    video_upload_response = cursor.fetch_all()\n",
    "    #print(f\"response from upload query: {video_upload_response}\")\n",
    "    \n",
    "    cursor.execute(load_video_query)\n",
    "    video_load_response = cursor.fetch_all()\n",
    "    #print(f\"response from load query: {video_load_response}\")\n",
    "    \n",
    "    if int(video_load_response.status) != 0:\n",
    "        print(f\"Loading video failed! \\nUpload response: {video_upload_response} \\nLoad response: {video_load_response}\")\n",
    "        return False\n",
    "    \n",
    "    return True"
   ]
  },
  {
   "cell_type": "markdown",
   "id": "bb6b7af9-f388-452c-934d-5835217a5aca",
   "metadata": {},
   "source": [
    "### Method to load a dataset"
   ]
  },
  {
   "cell_type": "code",
   "execution_count": null,
   "id": "935c062e-2363-4e5a-9349-f3a5b6b6055c",
   "metadata": {},
   "outputs": [],
   "source": [
    "def load_dataset(dataset_name):\n",
    "    \"\"\"\n",
    "    This method iterates over each video and csv in the dataset and loads them into EVA\n",
    "    A folder named dataset_name is expected to be inside datasets. This folder should contain 2 other folders named info and videos.\n",
    "    \n",
    "    Args:\n",
    "        dataset_name (string) - name of the dataset\n",
    "        \n",
    "    Returns:\n",
    "        True if all videos have been loaded succesfully\n",
    "        False if there was any error\n",
    "    \"\"\"\n",
    "        \n",
    "    # a folder for eva will be created at ~/.eva\n",
    "    home_folder = os.path.expanduser('~')\n",
    "    eva_root_folder = os.path.join(home_folder, '.eva')\n",
    "\n",
    "    # dataset_name must be your folder name\n",
    "    dataset_path = os.path.join(eva_root_folder, 'data', 'datasets', dataset_name)\n",
    "    #print(f\"Loading {dataset_name} from the path {dataset_path}\")\n",
    "\n",
    "    # first create a meta table for this dataset if it doesnt exist\n",
    "    if create_meta_table(dataset_name):\n",
    "        print(f\"Table created successfully for {dataset_name} (or already exists)\")\n",
    "    else:\n",
    "        return False\n",
    "\n",
    "    # Load the paths for all videos and info files\n",
    "    videos_path = os.path.join(dataset_path, 'videos')\n",
    "    info_path = os.path.join(dataset_path, 'info')\n",
    "    video_files = [os.path.join(videos_path, f) for f in sorted(os.listdir(videos_path))]\n",
    "    info_files = [os.path.join(info_path, f) for f in sorted(os.listdir(info_path))]\n",
    "    \n",
    "    # check that each video under videos has a corresponding meta file\n",
    "    for video_file in video_files:\n",
    "        video_name = video_file.split('/')[-1].split('.')[-2]\n",
    "        expected_info_file = os.path.join(dataset_path, 'info', video_name + '.csv')\n",
    "        if expected_info_file not in info_files:\n",
    "            print(f\"Each video under videos should have a corresponding info file under info.\")\n",
    "            return False\n",
    "            \n",
    "    # loop through each video and load them one by one\n",
    "    dataset_len = len(video_files)\n",
    "    for video_index in tqdm(range(dataset_len)):\n",
    "        video_path = video_files[video_index]\n",
    "        info_path = info_files[video_index]\n",
    "        \n",
    "        # load this video along with its meta info\n",
    "        if not load_video(dataset_name, video_path, info_path):\n",
    "            print(f\"Loading video: {video_path} failed! \")\n",
    "            return False\n",
    "        \n",
    "    return True"
   ]
  },
  {
   "cell_type": "markdown",
   "id": "bb7ed341-4f02-4ce2-a1e3-4720bf378d34",
   "metadata": {},
   "source": [
    "## Load the above dataset into EVA\n",
    "\n",
    "- This step may be time consuming as we are loading each video one by one into EVA along with its corresponding meta info"
   ]
  },
  {
   "cell_type": "code",
   "execution_count": null,
   "id": "54b9c5fa-567c-49f2-9b76-7f4d78705129",
   "metadata": {},
   "outputs": [],
   "source": [
    "dataset_name = \"bddtest\"\n",
    "\n",
    "# load the dataset\n",
    "if load_dataset(dataset_name):\n",
    "    print(f\"Dataset loaded successfully!\")\n",
    "else:\n",
    "    print(f\"One or more video loads failed! \")"
   ]
  },
  {
   "cell_type": "code",
   "execution_count": null,
   "id": "a9a04933-0e64-42d6-9972-815a270522de",
   "metadata": {},
   "outputs": [],
   "source": []
  }
 ],
 "metadata": {
  "kernelspec": {
   "display_name": "Python 3 (ipykernel)",
   "language": "python",
   "name": "python3"
  },
  "language_info": {
   "codemirror_mode": {
    "name": "ipython",
    "version": 3
   },
   "file_extension": ".py",
   "mimetype": "text/x-python",
   "name": "python",
   "nbconvert_exporter": "python",
   "pygments_lexer": "ipython3",
   "version": "3.7.11"
  }
 },
 "nbformat": 4,
 "nbformat_minor": 5
}
