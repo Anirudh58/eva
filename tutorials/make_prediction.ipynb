{
 "cells": [
  {
   "cell_type": "markdown",
   "id": "7bee48e3-8c37-4fd2-9bf6-6b8c162c97cf",
   "metadata": {},
   "source": [
    "# This notebook is to prototype vehicle make prediction"
   ]
  },
  {
   "cell_type": "markdown",
   "id": "72fc7ad5-fd82-47c2-a934-b1829fc33ff3",
   "metadata": {},
   "source": [
    "## Establish connection with EVA server"
   ]
  },
  {
   "cell_type": "code",
   "execution_count": 1,
   "id": "f37ab624-24d3-4451-81f8-edbdfe9d82e9",
   "metadata": {},
   "outputs": [],
   "source": [
    "import sys\n",
    "sys.path.insert(0,'..')\n",
    "from src.server.db_api import connect"
   ]
  },
  {
   "cell_type": "code",
   "execution_count": 2,
   "id": "e5de93ab-e6fd-40c5-a206-29f6e823abb4",
   "metadata": {},
   "outputs": [],
   "source": [
    "import nest_asyncio\n",
    "nest_asyncio.apply()\n",
    "connection = connect(host = '0.0.0.0', port = 5432) # hostname, port of the server where EVADB is running"
   ]
  },
  {
   "cell_type": "code",
   "execution_count": 3,
   "id": "d740f6ba-242f-4392-9124-9b13b0b388f9",
   "metadata": {},
   "outputs": [],
   "source": [
    "cursor = connection.cursor()"
   ]
  },
  {
   "cell_type": "markdown",
   "id": "b8d3a18f-64db-496b-8f94-76979b8c9bd0",
   "metadata": {},
   "source": [
    "### Upload the survellience video to analyse"
   ]
  },
  {
   "cell_type": "code",
   "execution_count": 4,
   "id": "fba0b5af-5be4-4e46-bb42-06b2ed032ae4",
   "metadata": {},
   "outputs": [
    {
     "name": "stdout",
     "output_type": "stream",
     "text": [
      "Response Object:\n",
      "@status: 0\n",
      "@batch: Batch Object:\n",
      "@dataframe: Empty DataFrame\n",
      "Columns: []\n",
      "Index: []\n",
      "@batch_size: 0\n",
      "@identifier_column: id\n",
      "@metrics: None\n"
     ]
    }
   ],
   "source": [
    "cursor.execute('UPLOAD INFILE \"../data/bdd_test/bdd_1.mp4\" PATH \"video.mp4\";')\n",
    "response = cursor.fetch_all()\n",
    "print(response)"
   ]
  },
  {
   "cell_type": "markdown",
   "id": "f9500fcb-fcc4-424b-8176-93b43b4c3d4c",
   "metadata": {},
   "source": [
    "## Visualize video"
   ]
  },
  {
   "cell_type": "code",
   "execution_count": 5,
   "id": "9af4e0d2-7030-4e1a-80d0-a773323a3790",
   "metadata": {},
   "outputs": [
    {
     "data": {
      "application/vnd.jupyter.widget-view+json": {
       "model_id": "0ce88390aae5405ab7762b0a1cd23b14",
       "version_major": 2,
       "version_minor": 0
      },
      "text/plain": [
       "Video(value=b'\\x00\\x00\\x00 ftypisom\\x00\\x00\\x02\\x00isomiso2avc1mp41\\x00\\x00<wmoov\\x00\\x00\\x00lmvhd\\x00\\x00\\x00…"
      ]
     },
     "metadata": {},
     "output_type": "display_data"
    }
   ],
   "source": [
    "from ipywidgets import Video\n",
    "Video.from_file(\"../data/bdd_test/bdd_1.mp4\", embed=True)"
   ]
  },
  {
   "cell_type": "markdown",
   "id": "c8c3525d-4067-4d8b-860b-0a4b25846bca",
   "metadata": {},
   "source": [
    "## Load video into EVA"
   ]
  },
  {
   "cell_type": "code",
   "execution_count": 6,
   "id": "4aabf3d2-e66b-401a-80c2-ae4b6750a17f",
   "metadata": {},
   "outputs": [
    {
     "name": "stdout",
     "output_type": "stream",
     "text": [
      "Response Object:\n",
      "@status: 0\n",
      "@batch: Batch Object:\n",
      "@dataframe:        Video  Num Loaded Frames\n",
      "0  video.mp4               1203\n",
      "@batch_size: 1\n",
      "@identifier_column: id\n",
      "@metrics: None\n"
     ]
    }
   ],
   "source": [
    "cursor.execute('LOAD DATA INFILE \"video.mp4\" INTO MyVideo;')\n",
    "response = cursor.fetch_all()\n",
    "print(response)"
   ]
  },
  {
   "cell_type": "markdown",
   "id": "68dd58f8-6519-40b8-811e-b8ca3445a79f",
   "metadata": {},
   "source": [
    "## Definte a new UDF called VehicleMakePredictor if it does not already exist"
   ]
  },
  {
   "cell_type": "code",
   "execution_count": null,
   "id": "a425506f-5546-4a25-a34e-a0cd5f5ea247",
   "metadata": {},
   "outputs": [],
   "source": [
    "cursor.execute(\"\"\"CREATE UDF IF NOT EXISTS VehicleMakePredictor\n",
    "      INPUT  (frame NDARRAY UINT8(3, ANYDIM, ANYDIM))\n",
    "      OUTPUT (labels NDARRAY STR(ANYDIM), bboxes NDARRAY FLOAT32(ANYDIM, 4),\n",
    "                scores NDARRAY FLOAT32(ANYDIM))\n",
    "      TYPE  Classification\n",
    "      IMPL  'src/udfs/vehicle_make_predictor.py';\n",
    "      \"\"\")\n",
    "response = cursor.fetch_all()\n",
    "print(response)"
   ]
  },
  {
   "cell_type": "markdown",
   "id": "cec71d14-7ace-449d-8798-2325024265ad",
   "metadata": {},
   "source": [
    "## Run vehicle predictor on video"
   ]
  },
  {
   "cell_type": "code",
   "execution_count": 7,
   "id": "df05ede7-b368-4a6b-bea4-cac08c5525a5",
   "metadata": {},
   "outputs": [],
   "source": [
    "cursor.execute(\"\"\"SELECT id, Unnest(VehicleMakePredictor(data)) FROM MyVideo\"\"\")\n",
    "response = cursor.fetch_all()"
   ]
  },
  {
   "cell_type": "code",
   "execution_count": 8,
   "id": "854a3c3c-65c3-46ac-9e21-cf35618f5653",
   "metadata": {},
   "outputs": [
    {
     "data": {
      "text/html": [
       "<div>\n",
       "<style scoped>\n",
       "    .dataframe tbody tr th:only-of-type {\n",
       "        vertical-align: middle;\n",
       "    }\n",
       "\n",
       "    .dataframe tbody tr th {\n",
       "        vertical-align: top;\n",
       "    }\n",
       "\n",
       "    .dataframe thead th {\n",
       "        text-align: right;\n",
       "    }\n",
       "</style>\n",
       "<table border=\"1\" class=\"dataframe\">\n",
       "  <thead>\n",
       "    <tr style=\"text-align: right;\">\n",
       "      <th></th>\n",
       "      <th>id</th>\n",
       "      <th>boxes</th>\n",
       "      <th>labels</th>\n",
       "      <th>makes</th>\n",
       "      <th>scores</th>\n",
       "    </tr>\n",
       "  </thead>\n",
       "  <tbody>\n",
       "    <tr>\n",
       "      <th>0</th>\n",
       "      <td>1067</td>\n",
       "      <td>[[792.8865966797, 431.6767883301], [872.873107...</td>\n",
       "      <td>car</td>\n",
       "      <td>[[Geo Metro Convertible 1993]]</td>\n",
       "      <td>0.998317</td>\n",
       "    </tr>\n",
       "    <tr>\n",
       "      <th>1</th>\n",
       "      <td>1067</td>\n",
       "      <td>[[554.9195556641, 396.9907531738], [772.661926...</td>\n",
       "      <td>car</td>\n",
       "      <td>[[Daewoo Nubira Wagon 2002]]</td>\n",
       "      <td>0.996497</td>\n",
       "    </tr>\n",
       "    <tr>\n",
       "      <th>2</th>\n",
       "      <td>1067</td>\n",
       "      <td>[[166.4351348877, 447.8352661133], [236.469070...</td>\n",
       "      <td>car</td>\n",
       "      <td>[[Geo Metro Convertible 1993]]</td>\n",
       "      <td>0.942952</td>\n",
       "    </tr>\n",
       "    <tr>\n",
       "      <th>3</th>\n",
       "      <td>1067</td>\n",
       "      <td>[[109.8822021484, 445.976348877], [170.6081848...</td>\n",
       "      <td>car</td>\n",
       "      <td>[[GMC Acadia SUV 2012]]</td>\n",
       "      <td>0.903357</td>\n",
       "    </tr>\n",
       "    <tr>\n",
       "      <th>4</th>\n",
       "      <td>1067</td>\n",
       "      <td>[[770.5823364258, 420.3346252441], [798.956298...</td>\n",
       "      <td>car</td>\n",
       "      <td>[[Ram C/V Cargo Van Minivan 2012]]</td>\n",
       "      <td>0.896569</td>\n",
       "    </tr>\n",
       "    <tr>\n",
       "      <th>...</th>\n",
       "      <td>...</td>\n",
       "      <td>...</td>\n",
       "      <td>...</td>\n",
       "      <td>...</td>\n",
       "      <td>...</td>\n",
       "    </tr>\n",
       "    <tr>\n",
       "      <th>5033</th>\n",
       "      <td>785</td>\n",
       "      <td>[[536.6068725586, 423.2253112793], [620.289123...</td>\n",
       "      <td>car</td>\n",
       "      <td>[[Geo Metro Convertible 1993]]</td>\n",
       "      <td>0.997436</td>\n",
       "    </tr>\n",
       "    <tr>\n",
       "      <th>5034</th>\n",
       "      <td>785</td>\n",
       "      <td>[[224.9058380127, 378.519317627], [548.0108032...</td>\n",
       "      <td>car</td>\n",
       "      <td>[[Suzuki Aerio Sedan 2007]]</td>\n",
       "      <td>0.997001</td>\n",
       "    </tr>\n",
       "    <tr>\n",
       "      <th>5035</th>\n",
       "      <td>785</td>\n",
       "      <td>[[1023.4869995117, 413.2431640625], [1070.1868...</td>\n",
       "      <td>car</td>\n",
       "      <td>[[GMC Savana Van 2012]]</td>\n",
       "      <td>0.978854</td>\n",
       "    </tr>\n",
       "    <tr>\n",
       "      <th>5036</th>\n",
       "      <td>785</td>\n",
       "      <td>[[626.7808837891, 433.8468322754], [651.508911...</td>\n",
       "      <td>car</td>\n",
       "      <td>[[Geo Metro Convertible 1993]]</td>\n",
       "      <td>0.972461</td>\n",
       "    </tr>\n",
       "    <tr>\n",
       "      <th>5037</th>\n",
       "      <td>785</td>\n",
       "      <td>[[648.1966552734, 432.3844604492], [666.343627...</td>\n",
       "      <td>car</td>\n",
       "      <td>[[Geo Metro Convertible 1993]]</td>\n",
       "      <td>0.860910</td>\n",
       "    </tr>\n",
       "  </tbody>\n",
       "</table>\n",
       "<p>5038 rows × 5 columns</p>\n",
       "</div>"
      ],
      "text/plain": [
       "        id                                              boxes labels  \\\n",
       "0     1067  [[792.8865966797, 431.6767883301], [872.873107...    car   \n",
       "1     1067  [[554.9195556641, 396.9907531738], [772.661926...    car   \n",
       "2     1067  [[166.4351348877, 447.8352661133], [236.469070...    car   \n",
       "3     1067  [[109.8822021484, 445.976348877], [170.6081848...    car   \n",
       "4     1067  [[770.5823364258, 420.3346252441], [798.956298...    car   \n",
       "...    ...                                                ...    ...   \n",
       "5033   785  [[536.6068725586, 423.2253112793], [620.289123...    car   \n",
       "5034   785  [[224.9058380127, 378.519317627], [548.0108032...    car   \n",
       "5035   785  [[1023.4869995117, 413.2431640625], [1070.1868...    car   \n",
       "5036   785  [[626.7808837891, 433.8468322754], [651.508911...    car   \n",
       "5037   785  [[648.1966552734, 432.3844604492], [666.343627...    car   \n",
       "\n",
       "                                   makes    scores  \n",
       "0         [[Geo Metro Convertible 1993]]  0.998317  \n",
       "1           [[Daewoo Nubira Wagon 2002]]  0.996497  \n",
       "2         [[Geo Metro Convertible 1993]]  0.942952  \n",
       "3                [[GMC Acadia SUV 2012]]  0.903357  \n",
       "4     [[Ram C/V Cargo Van Minivan 2012]]  0.896569  \n",
       "...                                  ...       ...  \n",
       "5033      [[Geo Metro Convertible 1993]]  0.997436  \n",
       "5034         [[Suzuki Aerio Sedan 2007]]  0.997001  \n",
       "5035             [[GMC Savana Van 2012]]  0.978854  \n",
       "5036      [[Geo Metro Convertible 1993]]  0.972461  \n",
       "5037      [[Geo Metro Convertible 1993]]  0.860910  \n",
       "\n",
       "[5038 rows x 5 columns]"
      ]
     },
     "execution_count": 8,
     "metadata": {},
     "output_type": "execute_result"
    }
   ],
   "source": [
    "response.batch.frames"
   ]
  },
  {
   "cell_type": "markdown",
   "id": "1411c401-0e60-4687-b897-012adeaa5640",
   "metadata": {},
   "source": [
    "### Visualize output of vehicle make detector on the video"
   ]
  },
  {
   "cell_type": "code",
   "execution_count": 9,
   "id": "ce0e65a3-2e83-48d4-a837-6cd98c4e9c27",
   "metadata": {},
   "outputs": [],
   "source": [
    "import cv2\n",
    "def annotate_video(detections, input_video_path, output_video_path):\n",
    "    color=(0,255,0)\n",
    "    thickness=3\n",
    "\n",
    "    vcap = cv2.VideoCapture(input_path)\n",
    "    width = int(vcap.get(3))\n",
    "    height = int(vcap.get(4))\n",
    "    fps = vcap.get(5)\n",
    "    fourcc = cv2.VideoWriter_fourcc(*'H264') #codec\n",
    "    video=cv2.VideoWriter(output_path, fourcc, fps, (width,height))\n",
    "\n",
    "    frame_id = 0\n",
    "    # Capture frame-by-frame\n",
    "    ret, frame = vcap.read()  # ret = 1 if the video is captured; frame is the image\n",
    "\n",
    "    while ret:\n",
    "        df = detections\n",
    "        df = df[['boxes', 'labels', 'makes']][df.id == frame_id]\n",
    "        if df.size:\n",
    "            for bbox, label, make in df.values:\n",
    "                # Though the model is trained on the actual car version itself, lets just print out the maker for now\n",
    "                maker = make[0][0].split(\" \")[0]\n",
    "                x1, y1 = bbox[0]\n",
    "                x2, y2 = bbox[1]\n",
    "                x1, y1, x2, y2 = int(x1), int(y1), int(x2), int(y2)\n",
    "                img=cv2.rectangle(frame, (x1, y1), (x2, y2), color, thickness) \n",
    "                cv2.putText(img, maker, (x1, y1-10), cv2.FONT_HERSHEY_SIMPLEX, 0.9, color, thickness-1) # object label\n",
    "            video.write(img)\n",
    "\n",
    "        frame_id+=1\n",
    "        ret, frame = vcap.read()\n",
    "\n",
    "    video.release()\n",
    "    vcap.release()"
   ]
  },
  {
   "cell_type": "code",
   "execution_count": 11,
   "id": "5837f02d-619a-4fb1-8335-d68ceadf25b3",
   "metadata": {},
   "outputs": [
    {
     "data": {
      "application/vnd.jupyter.widget-view+json": {
       "model_id": "9221bb6001614cfea3fa73b4908701c1",
       "version_major": 2,
       "version_minor": 0
      },
      "text/plain": [
       "Video(value=b'\\x00\\x00\\x00 ftypisom\\x00\\x00\\x02\\x00isomiso2avc1mp41\\x00\\x00\\x00\\x08free\\x01\\x14QOmdat\\x00\\x00\\…"
      ]
     },
     "metadata": {},
     "output_type": "display_data"
    }
   ],
   "source": [
    "from ipywidgets import Video\n",
    "input_path = '../data/bdd_test/bdd_1.mp4'\n",
    "output_path = 'video.mp4'\n",
    "annotate_video(response.batch.frames, input_path, output_path)\n",
    "Video.from_file(output_path)"
   ]
  },
  {
   "cell_type": "code",
   "execution_count": null,
   "id": "657492fc-42c5-4529-aef1-aa60bf591846",
   "metadata": {},
   "outputs": [],
   "source": []
  }
 ],
 "metadata": {
  "kernelspec": {
   "display_name": "eva",
   "language": "python",
   "name": "eva"
  },
  "language_info": {
   "codemirror_mode": {
    "name": "ipython",
    "version": 3
   },
   "file_extension": ".py",
   "mimetype": "text/x-python",
   "name": "python",
   "nbconvert_exporter": "python",
   "pygments_lexer": "ipython3",
   "version": "3.7.6"
  }
 },
 "nbformat": 4,
 "nbformat_minor": 5
}
