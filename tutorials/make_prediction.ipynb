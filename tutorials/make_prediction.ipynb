{
 "cells": [
  {
   "cell_type": "markdown",
   "id": "7bee48e3-8c37-4fd2-9bf6-6b8c162c97cf",
   "metadata": {},
   "source": [
    "# This notebook is to prototype vehicle make prediction"
   ]
  },
  {
   "cell_type": "markdown",
   "id": "72fc7ad5-fd82-47c2-a934-b1829fc33ff3",
   "metadata": {},
   "source": [
    "## Establish connection with EVA server"
   ]
  },
  {
   "cell_type": "code",
   "execution_count": null,
   "id": "f37ab624-24d3-4451-81f8-edbdfe9d82e9",
   "metadata": {},
   "outputs": [],
   "source": [
    "import sys\n",
    "sys.path.insert(0,'..')\n",
    "from src.server.db_api import connect"
   ]
  },
  {
   "cell_type": "code",
   "execution_count": null,
   "id": "e5de93ab-e6fd-40c5-a206-29f6e823abb4",
   "metadata": {},
   "outputs": [],
   "source": [
    "import nest_asyncio\n",
    "nest_asyncio.apply()\n",
    "connection = connect(host = '0.0.0.0', port = 5432) # hostname, port of the server where EVADB is running"
   ]
  },
  {
   "cell_type": "code",
   "execution_count": null,
   "id": "d740f6ba-242f-4392-9124-9b13b0b388f9",
   "metadata": {},
   "outputs": [],
   "source": [
    "cursor = connection.cursor()"
   ]
  },
  {
   "cell_type": "markdown",
   "id": "b8d3a18f-64db-496b-8f94-76979b8c9bd0",
   "metadata": {},
   "source": [
    "### Upload the survellience video to analyse"
   ]
  },
  {
   "cell_type": "code",
   "execution_count": null,
   "id": "fba0b5af-5be4-4e46-bb42-06b2ed032ae4",
   "metadata": {},
   "outputs": [],
   "source": [
    "cursor.execute('UPLOAD INFILE \"../data/bdd_test/bdd_1.mp4\" PATH \"video.mp4\";')\n",
    "response = cursor.fetch_all()\n",
    "print(response)"
   ]
  },
  {
   "cell_type": "markdown",
   "id": "f9500fcb-fcc4-424b-8176-93b43b4c3d4c",
   "metadata": {},
   "source": [
    "## Visualize video"
   ]
  },
  {
   "cell_type": "code",
   "execution_count": null,
   "id": "9af4e0d2-7030-4e1a-80d0-a773323a3790",
   "metadata": {},
   "outputs": [],
   "source": [
    "from ipywidgets import Video\n",
    "Video.from_file(\"../data/bdd_test/bdd_1.mp4\", embed=True)"
   ]
  },
  {
   "cell_type": "markdown",
   "id": "c8c3525d-4067-4d8b-860b-0a4b25846bca",
   "metadata": {},
   "source": [
    "## Load video into EVA"
   ]
  },
  {
   "cell_type": "code",
   "execution_count": null,
   "id": "4aabf3d2-e66b-401a-80c2-ae4b6750a17f",
   "metadata": {},
   "outputs": [],
   "source": [
    "cursor.execute('LOAD DATA INFILE \"video.mp4\" INTO MyVideo;')\n",
    "response = cursor.fetch_all()\n",
    "print(response)"
   ]
  },
  {
   "cell_type": "markdown",
   "id": "68dd58f8-6519-40b8-811e-b8ca3445a79f",
   "metadata": {},
   "source": [
    "## Definte a new UDF called VehicleMakePredictor if it does not already exist"
   ]
  },
  {
   "cell_type": "code",
   "execution_count": null,
   "id": "a425506f-5546-4a25-a34e-a0cd5f5ea247",
   "metadata": {},
   "outputs": [],
   "source": [
    "cursor.execute(\"\"\"CREATE UDF IF NOT EXISTS VehicleMakePredictor\n",
    "      INPUT  (frame NDARRAY UINT8(3, ANYDIM, ANYDIM))\n",
    "      OUTPUT (labels NDARRAY STR(ANYDIM), bboxes NDARRAY FLOAT32(ANYDIM, 4),\n",
    "                scores NDARRAY FLOAT32(ANYDIM))\n",
    "      TYPE  Classification\n",
    "      IMPL  'src/udfs/vehicle_make_predictor.py';\n",
    "      \"\"\")\n",
    "response = cursor.fetch_all()\n",
    "print(response)"
   ]
  },
  {
   "cell_type": "markdown",
   "id": "cec71d14-7ace-449d-8798-2325024265ad",
   "metadata": {},
   "source": [
    "## Run vehicle predictor on video"
   ]
  },
  {
   "cell_type": "code",
   "execution_count": null,
   "id": "df05ede7-b368-4a6b-bea4-cac08c5525a5",
   "metadata": {},
   "outputs": [],
   "source": [
    "cursor.execute(\"\"\"SELECT id, Unnest(VehicleMakePredictor(data)) FROM MyVideo\"\"\")\n",
    "response = cursor.fetch_all()"
   ]
  },
  {
   "cell_type": "code",
   "execution_count": null,
   "id": "854a3c3c-65c3-46ac-9e21-cf35618f5653",
   "metadata": {},
   "outputs": [],
   "source": [
    "response.batch.frames"
   ]
  },
  {
   "cell_type": "markdown",
   "id": "1411c401-0e60-4687-b897-012adeaa5640",
   "metadata": {},
   "source": [
    "### Visualize output of vehicle make detector on the video"
   ]
  },
  {
   "cell_type": "code",
   "execution_count": null,
   "id": "ce0e65a3-2e83-48d4-a837-6cd98c4e9c27",
   "metadata": {},
   "outputs": [],
   "source": [
    "import cv2\n",
    "def annotate_video(detections, input_video_path, output_video_path):\n",
    "    color=(0,255,0)\n",
    "    thickness=3\n",
    "\n",
    "    vcap = cv2.VideoCapture(input_path)\n",
    "    width = int(vcap.get(3))\n",
    "    height = int(vcap.get(4))\n",
    "    fps = vcap.get(5)\n",
    "\n",
    "    frame_id = 0\n",
    "    # Capture frame-by-frame\n",
    "    ret, frame = vcap.read()  # ret = 1 if the video is captured; frame is the image\n",
    "\n",
    "    while ret:\n",
    "        df = detections\n",
    "        df = df[['boxes', 'labels', 'makes']][df.id == frame_id]\n",
    "        if df.size:\n",
    "            for bbox, label, make in df.values:\n",
    "                # Though the model is trained on the actual car version itself, lets just print out the maker for now\n",
    "                maker = make[0][0].split(\" \")[0]\n",
    "                x1, y1 = bbox[0]\n",
    "                x2, y2 = bbox[1]\n",
    "                x1, y1, x2, y2 = int(x1), int(y1), int(x2), int(y2)\n",
    "                img=cv2.rectangle(frame, (x1, y1), (x2, y2), color, thickness) \n",
    "                cv2.putText(img, maker, (x1, y1-10), cv2.FONT_HERSHEY_SIMPLEX, 0.9, color, thickness-1) # object label\n",
    "            \n",
    "            cv2.imshow('Frame', img)\n",
    "            # Press Q on keyboard to  exit\n",
    "            if cv2.waitKey(25) & 0xFF == ord('q'):\n",
    "                break\n",
    "                            \n",
    "        frame_id+=1\n",
    "        ret, frame = vcap.read()\n",
    "\n",
    "    vcap.release()\n",
    "    cv2.destroyAllWindows()"
   ]
  },
  {
   "cell_type": "code",
   "execution_count": null,
   "id": "5837f02d-619a-4fb1-8335-d68ceadf25b3",
   "metadata": {},
   "outputs": [],
   "source": [
    "from ipywidgets import Video\n",
    "input_path = '../data/bdd_test/bdd_1.mp4'\n",
    "annotate_video(response.batch.frames, input_path, output_path)"
   ]
  },
  {
   "cell_type": "code",
   "execution_count": null,
   "id": "657492fc-42c5-4529-aef1-aa60bf591846",
   "metadata": {},
   "outputs": [],
   "source": []
  }
 ],
 "metadata": {
  "kernelspec": {
   "display_name": "eva",
   "language": "python",
   "name": "eva"
  },
  "language_info": {
   "codemirror_mode": {
    "name": "ipython",
    "version": 3
   },
   "file_extension": ".py",
   "mimetype": "text/x-python",
   "name": "python",
   "nbconvert_exporter": "python",
   "pygments_lexer": "ipython3",
   "version": "3.7.6"
  }
 },
 "nbformat": 4,
 "nbformat_minor": 5
}
