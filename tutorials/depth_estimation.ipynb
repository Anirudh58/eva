{
 "cells": [
  {
   "cell_type": "code",
   "execution_count": 1,
   "id": "2e69bbb1-2d96-4fc8-9d45-d93c75560217",
   "metadata": {},
   "outputs": [],
   "source": [
    "import sys\n",
    "sys.path.insert(0,'..')\n",
    "from src.server.db_api import connect"
   ]
  },
  {
   "cell_type": "code",
   "execution_count": 2,
   "id": "95bf2586-d6f3-481a-b9b4-f9d999d63fd9",
   "metadata": {},
   "outputs": [
    {
     "name": "stdout",
     "output_type": "stream",
     "text": [
      "[Ani] client initialize EVAConnection\n"
     ]
    }
   ],
   "source": [
    "import nest_asyncio\n",
    "nest_asyncio.apply()\n",
    "connection = connect(host = '0.0.0.0', port = 5432) # hostname, port of the server where EVADB is running"
   ]
  },
  {
   "cell_type": "code",
   "execution_count": 3,
   "id": "44b2074d-6e03-48d0-809d-a0b657e6ecfa",
   "metadata": {},
   "outputs": [
    {
     "name": "stdout",
     "output_type": "stream",
     "text": [
      "[Ani] client initialize EVACursor\n"
     ]
    }
   ],
   "source": [
    "cursor = connection.cursor()"
   ]
  },
  {
   "cell_type": "code",
   "execution_count": 4,
   "id": "433adb17-0e6c-45ea-8975-6d5f98e4cca0",
   "metadata": {},
   "outputs": [
    {
     "name": "stdout",
     "output_type": "stream",
     "text": [
      "[Ani] client in function execute_async\n",
      "[Ani] in function send_message. Sending message to server\n",
      "Response Object:\n",
      "@status: 0\n",
      "@batch: Batch Object:\n",
      "@dataframe: Empty DataFrame\n",
      "Columns: []\n",
      "Index: []\n",
      "@batch_size: 0\n",
      "@identifier_column: id\n",
      "@metrics: None\n"
     ]
    }
   ],
   "source": [
    "cursor.execute('UPLOAD INFILE \"../data/ua_detrac/ua_detrac.mp4\" PATH \"video.mp4\";')\n",
    "response = cursor.fetch_all()\n",
    "print(response)"
   ]
  },
  {
   "cell_type": "code",
   "execution_count": null,
   "id": "5f875971-9d1f-43c2-a16b-aeddba18eeaa",
   "metadata": {},
   "outputs": [],
   "source": [
    "from ipywidgets import Video\n",
    "Video.from_file(\"../data/ua_detrac/ua_detrac.mp4\", embed=True)"
   ]
  },
  {
   "cell_type": "code",
   "execution_count": 6,
   "id": "6c8e39c7-2647-4d03-913c-4a15334c2118",
   "metadata": {},
   "outputs": [
    {
     "name": "stdout",
     "output_type": "stream",
     "text": [
      "[Ani] client in function execute_async\n",
      "[Ani] in function send_message. Sending message to server\n",
      "Response Object:\n",
      "@status: 0\n",
      "@batch: Batch Object:\n",
      "@dataframe:        Video  Num Loaded Frames\n",
      "0  video.mp4                252\n",
      "@batch_size: 1\n",
      "@identifier_column: id\n",
      "@metrics: None\n"
     ]
    }
   ],
   "source": [
    "cursor.execute('LOAD DATA INFILE \"video.mp4\" INTO MyVideo;')\n",
    "response = cursor.fetch_all()\n",
    "print(response)"
   ]
  },
  {
   "cell_type": "code",
   "execution_count": 7,
   "id": "bb9144bc-9ed1-45b5-beb5-a45e1efc6440",
   "metadata": {},
   "outputs": [
    {
     "name": "stdout",
     "output_type": "stream",
     "text": [
      "[Ani] client in function execute_async\n",
      "[Ani] in function send_message. Sending message to server\n",
      "Response Object:\n",
      "@status: 0\n",
      "@batch: Batch Object:\n",
      "@dataframe: Empty DataFrame\n",
      "Columns: []\n",
      "Index: []\n",
      "@batch_size: 0\n",
      "@identifier_column: id\n",
      "@metrics: None\n"
     ]
    }
   ],
   "source": [
    "cursor.execute(\"\"\"CREATE UDF IF NOT EXISTS MidasDepthEstimator\n",
    "      INPUT  (frame NDARRAY UINT8(3, ANYDIM, ANYDIM))\n",
    "      OUTPUT (frame NDARRAY UINT8(3, ANYDIM, ANYDIM))\n",
    "      TYPE  Classification\n",
    "      IMPL  'src/udfs/midas_depth_estimator.py';\n",
    "      \"\"\")\n",
    "response = cursor.fetch_all()\n",
    "print(response)"
   ]
  },
  {
   "cell_type": "code",
   "execution_count": 8,
   "id": "813aae03-4cf4-4f31-9a24-b2cfed3bf7b1",
   "metadata": {},
   "outputs": [
    {
     "name": "stdout",
     "output_type": "stream",
     "text": [
      "[Ani] client in function execute_async\n",
      "[Ani] in function send_message. Sending message to server\n"
     ]
    }
   ],
   "source": [
    "cursor.execute(\"\"\"SELECT id, MidasDepthEstimator(data) FROM MyVideo\"\"\")\n",
    "response = cursor.fetch_all()"
   ]
  },
  {
   "cell_type": "code",
   "execution_count": 9,
   "id": "2b8b11ea-5059-4909-a4bf-63e5ab31cf75",
   "metadata": {},
   "outputs": [
    {
     "data": {
      "text/html": [
       "<div>\n",
       "<style scoped>\n",
       "    .dataframe tbody tr th:only-of-type {\n",
       "        vertical-align: middle;\n",
       "    }\n",
       "\n",
       "    .dataframe tbody tr th {\n",
       "        vertical-align: top;\n",
       "    }\n",
       "\n",
       "    .dataframe thead th {\n",
       "        text-align: right;\n",
       "    }\n",
       "</style>\n",
       "<table border=\"1\" class=\"dataframe\">\n",
       "  <thead>\n",
       "    <tr style=\"text-align: right;\">\n",
       "      <th></th>\n",
       "      <th>id</th>\n",
       "      <th>frames</th>\n",
       "    </tr>\n",
       "  </thead>\n",
       "  <tbody>\n",
       "    <tr>\n",
       "      <th>0</th>\n",
       "      <td>210</td>\n",
       "      <td>[[79.1489181519, 76.156829834, 78.8829116821, ...</td>\n",
       "    </tr>\n",
       "    <tr>\n",
       "      <th>1</th>\n",
       "      <td>211</td>\n",
       "      <td>[[81.7383804321, 78.4569473267, 81.3514633179,...</td>\n",
       "    </tr>\n",
       "    <tr>\n",
       "      <th>2</th>\n",
       "      <td>212</td>\n",
       "      <td>[[84.4806900024, 81.265914917, 83.527961731, 8...</td>\n",
       "    </tr>\n",
       "    <tr>\n",
       "      <th>3</th>\n",
       "      <td>213</td>\n",
       "      <td>[[89.7282333374, 86.7491378784, 88.6310501099,...</td>\n",
       "    </tr>\n",
       "    <tr>\n",
       "      <th>4</th>\n",
       "      <td>214</td>\n",
       "      <td>[[91.0610961914, 88.1939697266, 89.8064117432,...</td>\n",
       "    </tr>\n",
       "    <tr>\n",
       "      <th>...</th>\n",
       "      <td>...</td>\n",
       "      <td>...</td>\n",
       "    </tr>\n",
       "    <tr>\n",
       "      <th>247</th>\n",
       "      <td>95</td>\n",
       "      <td>[[55.4163398743, 53.1123046875, 54.0328292847,...</td>\n",
       "    </tr>\n",
       "    <tr>\n",
       "      <th>248</th>\n",
       "      <td>96</td>\n",
       "      <td>[[62.0665588379, 59.7210502625, 60.9966545105,...</td>\n",
       "    </tr>\n",
       "    <tr>\n",
       "      <th>249</th>\n",
       "      <td>97</td>\n",
       "      <td>[[69.4775085449, 67.0294570923, 68.5536651611,...</td>\n",
       "    </tr>\n",
       "    <tr>\n",
       "      <th>250</th>\n",
       "      <td>98</td>\n",
       "      <td>[[63.2394065857, 60.547000885, 61.762676239, 6...</td>\n",
       "    </tr>\n",
       "    <tr>\n",
       "      <th>251</th>\n",
       "      <td>99</td>\n",
       "      <td>[[64.2524490356, 60.9050827026, 62.0812454224,...</td>\n",
       "    </tr>\n",
       "  </tbody>\n",
       "</table>\n",
       "<p>252 rows × 2 columns</p>\n",
       "</div>"
      ],
      "text/plain": [
       "      id                                             frames\n",
       "0    210  [[79.1489181519, 76.156829834, 78.8829116821, ...\n",
       "1    211  [[81.7383804321, 78.4569473267, 81.3514633179,...\n",
       "2    212  [[84.4806900024, 81.265914917, 83.527961731, 8...\n",
       "3    213  [[89.7282333374, 86.7491378784, 88.6310501099,...\n",
       "4    214  [[91.0610961914, 88.1939697266, 89.8064117432,...\n",
       "..   ...                                                ...\n",
       "247   95  [[55.4163398743, 53.1123046875, 54.0328292847,...\n",
       "248   96  [[62.0665588379, 59.7210502625, 60.9966545105,...\n",
       "249   97  [[69.4775085449, 67.0294570923, 68.5536651611,...\n",
       "250   98  [[63.2394065857, 60.547000885, 61.762676239, 6...\n",
       "251   99  [[64.2524490356, 60.9050827026, 62.0812454224,...\n",
       "\n",
       "[252 rows x 2 columns]"
      ]
     },
     "execution_count": 9,
     "metadata": {},
     "output_type": "execute_result"
    }
   ],
   "source": [
    "response.batch.frames"
   ]
  },
  {
   "cell_type": "code",
   "execution_count": 10,
   "id": "008691a9-134f-4e5d-b515-168b61987709",
   "metadata": {},
   "outputs": [
    {
     "name": "stdout",
     "output_type": "stream",
     "text": [
      "output dimension: 90x160\n"
     ]
    }
   ],
   "source": [
    "output_width = len(response.batch.frames.iloc[0][1])\n",
    "output_height = len(response.batch.frames.iloc[0][1][0])\n",
    "\n",
    "print(f'output dimension: {output_width}x{output_height}')"
   ]
  },
  {
   "cell_type": "code",
   "execution_count": null,
   "id": "04e27435-a320-40e8-856e-fc9f43c0b53b",
   "metadata": {},
   "outputs": [],
   "source": []
  }
 ],
 "metadata": {
  "kernelspec": {
   "display_name": "eva",
   "language": "python",
   "name": "eva"
  },
  "language_info": {
   "codemirror_mode": {
    "name": "ipython",
    "version": 3
   },
   "file_extension": ".py",
   "mimetype": "text/x-python",
   "name": "python",
   "nbconvert_exporter": "python",
   "pygments_lexer": "ipython3",
   "version": "3.7.6"
  }
 },
 "nbformat": 4,
 "nbformat_minor": 5
}
