{
 "cells": [
  {
   "cell_type": "code",
   "execution_count": 1,
   "id": "2e69bbb1-2d96-4fc8-9d45-d93c75560217",
   "metadata": {},
   "outputs": [],
   "source": [
    "import sys\n",
    "import nest_asyncio\n",
    "import numpy as np\n",
    "\n",
    "sys.path.insert(0,'..')\n",
    "\n",
    "from ipywidgets import Video\n",
    "import matplotlib.pyplot as plt\n",
    "import matplotlib.animation as animation\n",
    "\n",
    "from src.server.db_api import connect\n",
    "\n",
    "%matplotlib inline"
   ]
  },
  {
   "cell_type": "markdown",
   "id": "b429617c-804d-4293-94ad-c212f1fef04b",
   "metadata": {},
   "source": [
    "## Establish a connection to EVA"
   ]
  },
  {
   "cell_type": "code",
   "execution_count": 2,
   "id": "95bf2586-d6f3-481a-b9b4-f9d999d63fd9",
   "metadata": {},
   "outputs": [],
   "source": [
    "nest_asyncio.apply()\n",
    "connection = connect(host = '0.0.0.0', port = 5432) \n",
    "cursor = connection.cursor()"
   ]
  },
  {
   "cell_type": "markdown",
   "id": "f66a7a8b-ae8f-4361-b81a-ac497911d978",
   "metadata": {},
   "source": [
    "## Config variables"
   ]
  },
  {
   "cell_type": "code",
   "execution_count": 3,
   "id": "6f898bfd-06de-4fe6-97c9-ac150fd62101",
   "metadata": {},
   "outputs": [],
   "source": [
    "input_video_path = \"../data/ua_detrac/ua_detrac.mp4\"\n",
    "output_video_path = \"output.mp4\""
   ]
  },
  {
   "cell_type": "markdown",
   "id": "d72faa7f-797c-47ba-b2c5-d9abb6e15335",
   "metadata": {},
   "source": [
    "## Visualize the input video and load into EVA"
   ]
  },
  {
   "cell_type": "code",
   "execution_count": 4,
   "id": "5f875971-9d1f-43c2-a16b-aeddba18eeaa",
   "metadata": {},
   "outputs": [
    {
     "data": {
      "application/vnd.jupyter.widget-view+json": {
       "model_id": "25294abde9f7451d94e530bf82edf823",
       "version_major": 2,
       "version_minor": 0
      },
      "text/plain": [
       "Video(value=b'\\x00\\x00\\x00 ftypisom\\x00\\x00\\x02\\x00isomiso2avc1mp41\\x00\\x00\\x00\\x08free\\x00\\x19K[mdat\\x00\\x00\\…"
      ]
     },
     "metadata": {},
     "output_type": "display_data"
    }
   ],
   "source": [
    "Video.from_file(input_video_path, embed=True)"
   ]
  },
  {
   "cell_type": "code",
   "execution_count": 5,
   "id": "4f6f94de-e4f0-4022-8e83-eaad0a1a8350",
   "metadata": {},
   "outputs": [
    {
     "name": "stdout",
     "output_type": "stream",
     "text": [
      "Response Object:\n",
      "@status: 0\n",
      "@batch: Batch Object:\n",
      "@dataframe: Empty DataFrame\n",
      "Columns: []\n",
      "Index: []\n",
      "@batch_size: 0\n",
      "@identifier_column: id\n",
      "@metrics: None\n"
     ]
    }
   ],
   "source": [
    "cursor.execute('UPLOAD INFILE \"../data/ua_detrac/ua_detrac.mp4\" PATH \"video.mp4\";')\n",
    "response = cursor.fetch_all()\n",
    "print(response)"
   ]
  },
  {
   "cell_type": "code",
   "execution_count": 6,
   "id": "5dd4651a-24b7-4bbd-be49-13db0de777cc",
   "metadata": {},
   "outputs": [
    {
     "name": "stdout",
     "output_type": "stream",
     "text": [
      "Response Object:\n",
      "@status: 0\n",
      "@batch: Batch Object:\n",
      "@dataframe:        Video  Num Loaded Frames\n",
      "0  video.mp4                252\n",
      "@batch_size: 1\n",
      "@identifier_column: id\n",
      "@metrics: None\n"
     ]
    }
   ],
   "source": [
    "cursor.execute('LOAD DATA INFILE \"video.mp4\" INTO MyVideo;')\n",
    "response = cursor.fetch_all()\n",
    "print(response)"
   ]
  },
  {
   "cell_type": "code",
   "execution_count": 7,
   "id": "bb9144bc-9ed1-45b5-beb5-a45e1efc6440",
   "metadata": {},
   "outputs": [
    {
     "name": "stdout",
     "output_type": "stream",
     "text": [
      "Response Object:\n",
      "@status: 0\n",
      "@batch: Batch Object:\n",
      "@dataframe: Empty DataFrame\n",
      "Columns: []\n",
      "Index: []\n",
      "@batch_size: 0\n",
      "@identifier_column: id\n",
      "@metrics: None\n"
     ]
    }
   ],
   "source": [
    "cursor.execute(\"\"\"CREATE UDF IF NOT EXISTS MidasDepthEstimator\n",
    "      INPUT  (frame NDARRAY UINT8(3, ANYDIM, ANYDIM))\n",
    "      OUTPUT (frame NDARRAY UINT8(3, ANYDIM, ANYDIM))\n",
    "      TYPE  Classification\n",
    "      IMPL  'src/udfs/midas_depth_estimator.py';\n",
    "      \"\"\")\n",
    "response = cursor.fetch_all()\n",
    "print(response)"
   ]
  },
  {
   "cell_type": "markdown",
   "id": "52e80db1-b04e-4a31-8f09-e669d7ef9c6b",
   "metadata": {},
   "source": [
    "## Running our target UDF on the input video"
   ]
  },
  {
   "cell_type": "code",
   "execution_count": 8,
   "id": "813aae03-4cf4-4f31-9a24-b2cfed3bf7b1",
   "metadata": {},
   "outputs": [],
   "source": [
    "cursor.execute(\"\"\"SELECT id, MidasDepthEstimator(data) FROM MyVideo\"\"\")\n",
    "response = cursor.fetch_all()"
   ]
  },
  {
   "cell_type": "markdown",
   "id": "ab31aab8-2bc9-4a18-86fc-fe1fd14fcc3f",
   "metadata": {},
   "source": [
    "### TODO: For some reason, the frame batches are jumbled !?"
   ]
  },
  {
   "cell_type": "code",
   "execution_count": 9,
   "id": "2b8b11ea-5059-4909-a4bf-63e5ab31cf75",
   "metadata": {},
   "outputs": [],
   "source": [
    "sorted_response = response.batch.frames.sort_values(['id'])"
   ]
  },
  {
   "cell_type": "markdown",
   "id": "6ce0fd46-aa40-4f0c-b74d-1abf5b877aed",
   "metadata": {},
   "source": [
    "## Visualize the results"
   ]
  },
  {
   "cell_type": "code",
   "execution_count": 10,
   "id": "81e52cac-ff4f-4189-8acd-e2ba269374e5",
   "metadata": {},
   "outputs": [
    {
     "data": {
      "application/vnd.jupyter.widget-view+json": {
       "model_id": "1e0694ee43564d148ca67badaed683c9",
       "version_major": 2,
       "version_minor": 0
      },
      "text/plain": [
       "Video(value=b'\\x00\\x00\\x00 ftypisom\\x00\\x00\\x02\\x00isomiso2avc1mp41\\x00\\x00\\x00\\x08free\\x00\\x01h\\xd9mdat\\x00\\x…"
      ]
     },
     "metadata": {},
     "output_type": "display_data"
    },
    {
     "data": {
      "image/png": "[encoded data removed]",
      "text/plain": [
       "<Figure size 432x288 with 1 Axes>"
      ]
     },
     "metadata": {
      "needs_background": "light"
     },
     "output_type": "display_data"
    }
   ],
   "source": [
    "fig, ax = plt.subplots()\n",
    "images_list = []\n",
    "for index, row in sorted_response.iterrows():\n",
    "    im = ax.imshow(row['frames'], animated=True)\n",
    "    images_list.append([im])\n",
    "    \n",
    "# create and save the animation\n",
    "output_animation = animation.ArtistAnimation(fig, images_list, interval=50, blit=True, repeat_delay=1000)\n",
    "output_animation.save('output.mp4')\n",
    "Video.from_file('output.mp4')"
   ]
  },
  {
   "cell_type": "code",
   "execution_count": null,
   "id": "5a1bfa26-0795-4937-9fb3-e9c1a19a5e9e",
   "metadata": {},
   "outputs": [],
   "source": []
  },
  {
   "cell_type": "code",
   "execution_count": null,
   "id": "47cccf87-d0b3-4b71-a05b-3974b1285524",
   "metadata": {},
   "outputs": [],
   "source": []
  },
  {
   "cell_type": "code",
   "execution_count": null,
   "id": "0483ca0d-e32c-485e-91e2-93b65c0dd9a7",
   "metadata": {},
   "outputs": [],
   "source": []
  },
  {
   "cell_type": "code",
   "execution_count": null,
   "id": "04e27435-a320-40e8-856e-fc9f43c0b53b",
   "metadata": {},
   "outputs": [],
   "source": []
  }
 ],
 "metadata": {
  "kernelspec": {
   "display_name": "eva",
   "language": "python",
   "name": "eva"
  },
  "language_info": {
   "codemirror_mode": {
    "name": "ipython",
    "version": 3
   },
   "file_extension": ".py",
   "mimetype": "text/x-python",
   "name": "python",
   "nbconvert_exporter": "python",
   "pygments_lexer": "ipython3",
   "version": "3.7.6"
  }
 },
 "nbformat": 4,
 "nbformat_minor": 5
}
