{
 "cells": [
  {
   "cell_type": "code",
   "execution_count": 2,
   "metadata": {},
   "outputs": [
    {
     "name": "stdout",
     "output_type": "stream",
     "text": [
      "Populating the interactive namespace from numpy and matplotlib\n"
     ]
    }
   ],
   "source": [
    "\"\"\"\n",
    "Apply on MNIST Dataset\n",
    "\n",
    "\"\"\"\n",
    "%pylab inline\n",
    "import os\n",
    "import keras\n",
    "import cv2\n",
    "import time\n",
    "import numpy as np\n",
    "import pandas as pd\n",
    "import keras.backend as K\n",
    "import tensorflow as tf\n",
    "\n",
    "import sklearn.metrics as metrics\n",
    "\n",
    "from keras import callbacks\n",
    "from keras.models import Model\n",
    "from keras.optimizers import SGD\n",
    "from keras.initializers import VarianceScaling\n",
    "from keras.engine.topology import Layer, InputSpec\n",
    "from keras.layers import Input, Dense, Conv2D, MaxPooling2D, Conv2DTranspose, Flatten,Reshape, UpSampling2D, Cropping2D\n",
    "from keras.callbacks import ModelCheckpoint, EarlyStopping\n",
    "from keras.datasets import mnist\n",
    "import h5py\n",
    "\n",
    "import sys\n",
    "\n",
    "\n",
    "from sklearn.cluster import KMeans\n",
    "\n",
    "\n",
    "os.environ[\"CUDA_VISIBLE_DEVICES\"]=\"0\""
   ]
  },
  {
   "cell_type": "code",
   "execution_count": 61,
   "metadata": {},
   "outputs": [],
   "source": [
    "# get the training and test data\n",
    "(train_x, train_y), (test_x, test_y) = mnist.load_data()\n",
    "train_x = np.reshape(train_x, (len(train_x), 28, 28, 1))\n",
    "test_x = np.reshape(test_x, (len(test_x), 28, 28, 1)) "
   ]
  },
  {
   "cell_type": "code",
   "execution_count": 62,
   "metadata": {},
   "outputs": [
    {
     "name": "stdout",
     "output_type": "stream",
     "text": [
      "(28, 28, 1)\n",
      "(28, 28)\n",
      "(28, 28)\n"
     ]
    },
    {
     "data": {
      "text/plain": [
       "<matplotlib.image.AxesImage at 0x1a46a32860>"
      ]
     },
     "execution_count": 62,
     "metadata": {},
     "output_type": "execute_result"
    },
    {
     "data": {
      "image/png": "[encoded data removed]",
      "text/plain": [
       "<Figure size 432x288 with 1 Axes>"
      ]
     },
     "metadata": {
      "needs_background": "light"
     },
     "output_type": "display_data"
    }
   ],
   "source": [
    "import matplotlib.pyplot as plt\n",
    "import random\n",
    "image_index = random.randint(0,100) # You may select anything up to 60,000\n",
    "print(train_x[image_index].shape)\n",
    "\n",
    "example = train_x[image_index]\n",
    "width, height, channels = example.shape\n",
    "example = np.squeeze(example)\n",
    "print(np.squeeze(example).shape)\n",
    "print(example.shape)\n",
    "\n",
    "plt.imshow(example, cmap='Greys')"
   ]
  },
  {
   "cell_type": "code",
   "execution_count": 63,
   "metadata": {},
   "outputs": [],
   "source": [
    "# Must perform normalization for the autoencoder to perform well\n",
    "train_x = train_x.astype('float32') / 255\n",
    "test_x = test_x.astype('float32') / 255"
   ]
  },
  {
   "cell_type": "code",
   "execution_count": 9,
   "metadata": {},
   "outputs": [],
   "source": [
    "keras.backend.clear_session()"
   ]
  },
  {
   "cell_type": "code",
   "execution_count": 14,
   "metadata": {},
   "outputs": [
    {
     "name": "stdout",
     "output_type": "stream",
     "text": [
      "_________________________________________________________________\n",
      "Layer (type)                 Output Shape              Param #   \n",
      "=================================================================\n",
      "input_3 (InputLayer)         (None, 28, 28, 1)         0         \n",
      "_________________________________________________________________\n",
      "conv2d_16 (Conv2D)           (None, 28, 28, 16)        160       \n",
      "_________________________________________________________________\n",
      "max_pooling2d_4 (MaxPooling2 (None, 14, 14, 16)        0         \n",
      "_________________________________________________________________\n",
      "conv2d_17 (Conv2D)           (None, 14, 14, 8)         1160      \n",
      "_________________________________________________________________\n",
      "max_pooling2d_5 (MaxPooling2 (None, 7, 7, 8)           0         \n",
      "_________________________________________________________________\n",
      "conv2d_18 (Conv2D)           (None, 7, 7, 8)           584       \n",
      "_________________________________________________________________\n",
      "encoder (MaxPooling2D)       (None, 4, 4, 8)           0         \n",
      "_________________________________________________________________\n",
      "conv2d_19 (Conv2D)           (None, 4, 4, 8)           584       \n",
      "_________________________________________________________________\n",
      "up_sampling2d_6 (UpSampling2 (None, 8, 8, 8)           0         \n",
      "_________________________________________________________________\n",
      "conv2d_20 (Conv2D)           (None, 8, 8, 8)           584       \n",
      "_________________________________________________________________\n",
      "up_sampling2d_7 (UpSampling2 (None, 16, 16, 8)         0         \n",
      "_________________________________________________________________\n",
      "conv2d_21 (Conv2D)           (None, 14, 14, 16)        1168      \n",
      "_________________________________________________________________\n",
      "up_sampling2d_8 (UpSampling2 (None, 28, 28, 16)        0         \n",
      "_________________________________________________________________\n",
      "conv2d_22 (Conv2D)           (None, 28, 28, 1)         145       \n",
      "=================================================================\n",
      "Total params: 4,385\n",
      "Trainable params: 4,385\n",
      "Non-trainable params: 0\n",
      "_________________________________________________________________\n"
     ]
    }
   ],
   "source": [
    "# Combined network with both FC and CNN layers\n",
    "\n",
    "n_samples, width, height, channels = train_x.shape\n",
    "# Input\n",
    "input_img = Input(shape=(width, height, 1))\n",
    "# Encoder\n",
    "x = Conv2D(16, (3, 3), activation='relu', padding='same')(input_img)\n",
    "x = MaxPooling2D((2, 2), padding='same')(x)\n",
    "x = Conv2D(8, (3, 3), activation='relu', padding='same')(x)\n",
    "x = MaxPooling2D((2, 2), padding='same')(x)\n",
    "x = Conv2D(8, (3, 3), activation='relu', padding='same')(x)\n",
    "encoded = MaxPooling2D((2, 2), padding='same', name='encoder')(x)\n",
    "\n",
    "# Decoder\n",
    "x = Conv2D(8, (3, 3), activation='relu', padding='same')(encoded)\n",
    "x = UpSampling2D((2, 2))(x)\n",
    "x = Conv2D(8, (3, 3), activation='relu', padding='same')(x)\n",
    "x = UpSampling2D((2, 2))(x)\n",
    "x = Conv2D(16, (3, 3), activation='relu')(x)\n",
    "x = UpSampling2D((2, 2))(x)\n",
    "decoded = Conv2D(1, (3, 3), activation='sigmoid', padding='same')(x)\n",
    "\n",
    "\n",
    "autoencoder = Model(input_img, decoded)\n",
    "\n",
    "autoencoder.compile(optimizer='adam', loss='mse')\n",
    "\n",
    "autoencoder.summary()"
   ]
  },
  {
   "cell_type": "code",
   "execution_count": 15,
   "metadata": {},
   "outputs": [
    {
     "name": "stdout",
     "output_type": "stream",
     "text": [
      "WARNING:tensorflow:From /Users/azwreith/anaconda3/envs/eva-storage/lib/python3.6/site-packages/tensorflow/python/ops/math_ops.py:3066: to_int32 (from tensorflow.python.ops.math_ops) is deprecated and will be removed in a future version.\n",
      "Instructions for updating:\n",
      "Use tf.cast instead.\n",
      "Train on 60000 samples, validate on 10000 samples\n",
      "Epoch 1/200\n",
      "60000/60000 [==============================] - 83s 1ms/step - loss: 0.1570 - val_loss: 0.1142\n",
      "Epoch 2/200\n",
      "60000/60000 [==============================] - 80s 1ms/step - loss: 0.1121 - val_loss: 0.1140\n",
      "Epoch 3/200\n",
      "60000/60000 [==============================] - 85s 1ms/step - loss: 0.1120 - val_loss: 0.1140\n",
      "Epoch 4/200\n",
      "60000/60000 [==============================] - 89s 1ms/step - loss: 0.1120 - val_loss: 0.1140\n",
      "Epoch 5/200\n",
      "60000/60000 [==============================] - 87s 1ms/step - loss: 0.1120 - val_loss: 0.1139\n",
      "Epoch 6/200\n",
      "60000/60000 [==============================] - 85s 1ms/step - loss: 0.1119 - val_loss: 0.1131\n",
      "Epoch 7/200\n",
      "60000/60000 [==============================] - 87s 1ms/step - loss: 0.0872 - val_loss: 0.0640\n",
      "Epoch 8/200\n",
      "60000/60000 [==============================] - 84s 1ms/step - loss: 0.0578 - val_loss: 0.0533\n",
      "Epoch 9/200\n",
      "60000/60000 [==============================] - 89s 1ms/step - loss: 0.0502 - val_loss: 0.0474\n",
      "Epoch 10/200\n",
      "60000/60000 [==============================] - 88s 1ms/step - loss: 0.0455 - val_loss: 0.0435\n",
      "Epoch 11/200\n",
      "60000/60000 [==============================] - 88s 1ms/step - loss: 0.0423 - val_loss: 0.0407\n",
      "Epoch 12/200\n",
      "60000/60000 [==============================] - 89s 1ms/step - loss: 0.0398 - val_loss: 0.0383\n",
      "Epoch 13/200\n",
      "60000/60000 [==============================] - 89s 1ms/step - loss: 0.0376 - val_loss: 0.0363\n",
      "Epoch 14/200\n",
      "60000/60000 [==============================] - 88s 1ms/step - loss: 0.0357 - val_loss: 0.0344\n",
      "Epoch 15/200\n",
      "60000/60000 [==============================] - 87s 1ms/step - loss: 0.0339 - val_loss: 0.0328\n",
      "Epoch 16/200\n",
      "60000/60000 [==============================] - 87s 1ms/step - loss: 0.0323 - val_loss: 0.0312\n",
      "Epoch 17/200\n",
      "60000/60000 [==============================] - 87s 1ms/step - loss: 0.0308 - val_loss: 0.0298\n",
      "Epoch 18/200\n",
      "60000/60000 [==============================] - 93s 2ms/step - loss: 0.0295 - val_loss: 0.0287\n",
      "Epoch 19/200\n",
      "60000/60000 [==============================] - 88s 1ms/step - loss: 0.0285 - val_loss: 0.0277\n",
      "Epoch 20/200\n",
      "60000/60000 [==============================] - 79s 1ms/step - loss: 0.0276 - val_loss: 0.0269\n",
      "Epoch 21/200\n",
      "60000/60000 [==============================] - 79s 1ms/step - loss: 0.0268 - val_loss: 0.0261\n",
      "Epoch 22/200\n",
      "60000/60000 [==============================] - 80s 1ms/step - loss: 0.0260 - val_loss: 0.0253\n",
      "Epoch 23/200\n",
      "60000/60000 [==============================] - 79s 1ms/step - loss: 0.0253 - val_loss: 0.0247\n",
      "Epoch 24/200\n",
      "60000/60000 [==============================] - 79s 1ms/step - loss: 0.0247 - val_loss: 0.0242\n",
      "Epoch 25/200\n",
      "60000/60000 [==============================] - 80s 1ms/step - loss: 0.0242 - val_loss: 0.0236\n",
      "Epoch 26/200\n",
      "60000/60000 [==============================] - 80s 1ms/step - loss: 0.0237 - val_loss: 0.0231\n",
      "Epoch 27/200\n",
      "60000/60000 [==============================] - 80s 1ms/step - loss: 0.0232 - val_loss: 0.0227\n",
      "Epoch 28/200\n",
      "60000/60000 [==============================] - 79s 1ms/step - loss: 0.0228 - val_loss: 0.0224\n",
      "Epoch 29/200\n",
      "60000/60000 [==============================] - 79s 1ms/step - loss: 0.0224 - val_loss: 0.0220\n",
      "Epoch 30/200\n",
      "60000/60000 [==============================] - 79s 1ms/step - loss: 0.0221 - val_loss: 0.0216\n",
      "Epoch 31/200\n",
      "60000/60000 [==============================] - 79s 1ms/step - loss: 0.0217 - val_loss: 0.0213\n",
      "Epoch 32/200\n",
      "60000/60000 [==============================] - 79s 1ms/step - loss: 0.0214 - val_loss: 0.0210\n",
      "Epoch 33/200\n",
      "60000/60000 [==============================] - 79s 1ms/step - loss: 0.0211 - val_loss: 0.0207\n",
      "Epoch 34/200\n",
      "60000/60000 [==============================] - 80s 1ms/step - loss: 0.0208 - val_loss: 0.0205\n",
      "Epoch 35/200\n",
      "60000/60000 [==============================] - 83s 1ms/step - loss: 0.0206 - val_loss: 0.0202\n",
      "Epoch 36/200\n",
      "60000/60000 [==============================] - 79s 1ms/step - loss: 0.0203 - val_loss: 0.0200\n",
      "Epoch 37/200\n",
      "60000/60000 [==============================] - 80s 1ms/step - loss: 0.0201 - val_loss: 0.0198\n",
      "Epoch 38/200\n",
      "60000/60000 [==============================] - 79s 1ms/step - loss: 0.0199 - val_loss: 0.0195\n",
      "Epoch 39/200\n",
      "60000/60000 [==============================] - 79s 1ms/step - loss: 0.0197 - val_loss: 0.0193\n",
      "Epoch 40/200\n",
      "60000/60000 [==============================] - 79s 1ms/step - loss: 0.0195 - val_loss: 0.0191\n",
      "Epoch 41/200\n",
      "60000/60000 [==============================] - 80s 1ms/step - loss: 0.0193 - val_loss: 0.0189\n",
      "Epoch 42/200\n",
      "60000/60000 [==============================] - 80s 1ms/step - loss: 0.0191 - val_loss: 0.0188\n",
      "Epoch 43/200\n",
      "60000/60000 [==============================] - 79s 1ms/step - loss: 0.0189 - val_loss: 0.0186\n",
      "Epoch 44/200\n",
      "60000/60000 [==============================] - 79s 1ms/step - loss: 0.0188 - val_loss: 0.0185\n",
      "Epoch 45/200\n",
      "60000/60000 [==============================] - 79s 1ms/step - loss: 0.0187 - val_loss: 0.0183\n",
      "Epoch 46/200\n",
      "60000/60000 [==============================] - 80s 1ms/step - loss: 0.0185 - val_loss: 0.0182\n",
      "Epoch 47/200\n",
      "60000/60000 [==============================] - 79s 1ms/step - loss: 0.0184 - val_loss: 0.0180\n",
      "Epoch 48/200\n",
      "60000/60000 [==============================] - 79s 1ms/step - loss: 0.0182 - val_loss: 0.0180\n",
      "Epoch 49/200\n",
      "60000/60000 [==============================] - 79s 1ms/step - loss: 0.0181 - val_loss: 0.0178\n",
      "Epoch 50/200\n",
      "60000/60000 [==============================] - 79s 1ms/step - loss: 0.0180 - val_loss: 0.0177\n",
      "Epoch 51/200\n",
      "60000/60000 [==============================] - 79s 1ms/step - loss: 0.0179 - val_loss: 0.0176\n",
      "Epoch 52/200\n",
      "60000/60000 [==============================] - 79s 1ms/step - loss: 0.0178 - val_loss: 0.0175\n",
      "Epoch 53/200\n",
      "60000/60000 [==============================] - 79s 1ms/step - loss: 0.0177 - val_loss: 0.0174\n",
      "Epoch 54/200\n",
      "60000/60000 [==============================] - 80s 1ms/step - loss: 0.0176 - val_loss: 0.0172\n",
      "Epoch 55/200\n",
      "60000/60000 [==============================] - 81s 1ms/step - loss: 0.0175 - val_loss: 0.0172\n",
      "Epoch 56/200\n",
      "60000/60000 [==============================] - 79s 1ms/step - loss: 0.0174 - val_loss: 0.0172\n",
      "Epoch 57/200\n",
      "60000/60000 [==============================] - 79s 1ms/step - loss: 0.0173 - val_loss: 0.0171\n",
      "Epoch 58/200\n",
      "60000/60000 [==============================] - 82s 1ms/step - loss: 0.0172 - val_loss: 0.0169\n",
      "Epoch 59/200\n",
      "60000/60000 [==============================] - 80s 1ms/step - loss: 0.0171 - val_loss: 0.0168\n",
      "Epoch 60/200\n",
      "60000/60000 [==============================] - 79s 1ms/step - loss: 0.0171 - val_loss: 0.0168\n",
      "Epoch 61/200\n",
      "60000/60000 [==============================] - 79s 1ms/step - loss: 0.0170 - val_loss: 0.0167\n",
      "Epoch 62/200\n",
      "60000/60000 [==============================] - 79s 1ms/step - loss: 0.0169 - val_loss: 0.0166\n",
      "Epoch 63/200\n",
      "60000/60000 [==============================] - 80s 1ms/step - loss: 0.0168 - val_loss: 0.0166\n",
      "Epoch 64/200\n",
      "60000/60000 [==============================] - 80s 1ms/step - loss: 0.0167 - val_loss: 0.0165\n",
      "Epoch 65/200\n",
      "60000/60000 [==============================] - 79s 1ms/step - loss: 0.0167 - val_loss: 0.0164\n",
      "Epoch 66/200\n",
      "60000/60000 [==============================] - 79s 1ms/step - loss: 0.0166 - val_loss: 0.0163\n",
      "Epoch 67/200\n",
      "60000/60000 [==============================] - 80s 1ms/step - loss: 0.0165 - val_loss: 0.0163\n",
      "Epoch 68/200\n",
      "60000/60000 [==============================] - 79s 1ms/step - loss: 0.0165 - val_loss: 0.0163\n",
      "Epoch 69/200\n",
      "60000/60000 [==============================] - 79s 1ms/step - loss: 0.0164 - val_loss: 0.0161\n",
      "Epoch 70/200\n",
      "60000/60000 [==============================] - 81s 1ms/step - loss: 0.0164 - val_loss: 0.0162\n",
      "Epoch 71/200\n",
      "60000/60000 [==============================] - 79s 1ms/step - loss: 0.0163 - val_loss: 0.0162\n",
      "Epoch 72/200\n",
      "60000/60000 [==============================] - 79s 1ms/step - loss: 0.0162 - val_loss: 0.0160\n",
      "Epoch 73/200\n",
      "60000/60000 [==============================] - 79s 1ms/step - loss: 0.0162 - val_loss: 0.0159\n",
      "Epoch 74/200\n",
      "60000/60000 [==============================] - 79s 1ms/step - loss: 0.0161 - val_loss: 0.0159\n",
      "Epoch 75/200\n",
      "60000/60000 [==============================] - 79s 1ms/step - loss: 0.0161 - val_loss: 0.0159\n",
      "Epoch 76/200\n",
      "60000/60000 [==============================] - 79s 1ms/step - loss: 0.0160 - val_loss: 0.0158\n",
      "Epoch 77/200\n",
      "60000/60000 [==============================] - 79s 1ms/step - loss: 0.0160 - val_loss: 0.0157\n",
      "Epoch 78/200\n",
      "60000/60000 [==============================] - 80s 1ms/step - loss: 0.0159 - val_loss: 0.0157\n",
      "Epoch 79/200\n",
      "60000/60000 [==============================] - 79s 1ms/step - loss: 0.0159 - val_loss: 0.0156\n",
      "Epoch 80/200\n",
      "60000/60000 [==============================] - 79s 1ms/step - loss: 0.0158 - val_loss: 0.0156\n",
      "Epoch 81/200\n",
      "60000/60000 [==============================] - 79s 1ms/step - loss: 0.0158 - val_loss: 0.0155\n",
      "Epoch 82/200\n",
      "60000/60000 [==============================] - 79s 1ms/step - loss: 0.0157 - val_loss: 0.0155\n",
      "Epoch 83/200\n",
      "60000/60000 [==============================] - 79s 1ms/step - loss: 0.0157 - val_loss: 0.0154\n",
      "Epoch 84/200\n",
      "60000/60000 [==============================] - 79s 1ms/step - loss: 0.0156 - val_loss: 0.0154\n",
      "Epoch 85/200\n",
      "60000/60000 [==============================] - 79s 1ms/step - loss: 0.0156 - val_loss: 0.0153\n",
      "Epoch 86/200\n",
      "60000/60000 [==============================] - 79s 1ms/step - loss: 0.0155 - val_loss: 0.0154\n",
      "Epoch 87/200\n",
      "60000/60000 [==============================] - 79s 1ms/step - loss: 0.0155 - val_loss: 0.0153\n",
      "Epoch 88/200\n",
      "60000/60000 [==============================] - 80s 1ms/step - loss: 0.0154 - val_loss: 0.0153\n",
      "Epoch 89/200\n",
      "60000/60000 [==============================] - 79s 1ms/step - loss: 0.0154 - val_loss: 0.0151\n",
      "Epoch 90/200\n",
      "60000/60000 [==============================] - 79s 1ms/step - loss: 0.0154 - val_loss: 0.0151\n",
      "Epoch 91/200\n",
      "60000/60000 [==============================] - 79s 1ms/step - loss: 0.0153 - val_loss: 0.0151\n",
      "Epoch 92/200\n",
      "60000/60000 [==============================] - 81s 1ms/step - loss: 0.0153 - val_loss: 0.0151\n",
      "Epoch 93/200\n",
      "60000/60000 [==============================] - 79s 1ms/step - loss: 0.0152 - val_loss: 0.0150\n",
      "Epoch 94/200\n",
      "60000/60000 [==============================] - 80s 1ms/step - loss: 0.0152 - val_loss: 0.0149\n",
      "Epoch 95/200\n",
      "60000/60000 [==============================] - 81s 1ms/step - loss: 0.0151 - val_loss: 0.0150\n",
      "Epoch 96/200\n",
      "60000/60000 [==============================] - 79s 1ms/step - loss: 0.0152 - val_loss: 0.0149\n",
      "Epoch 97/200\n",
      "60000/60000 [==============================] - 79s 1ms/step - loss: 0.0151 - val_loss: 0.0149\n",
      "Epoch 98/200\n",
      "60000/60000 [==============================] - 80s 1ms/step - loss: 0.0151 - val_loss: 0.0148\n",
      "Epoch 99/200\n",
      "60000/60000 [==============================] - 79s 1ms/step - loss: 0.0150 - val_loss: 0.0148\n",
      "Epoch 100/200\n",
      "60000/60000 [==============================] - 79s 1ms/step - loss: 0.0150 - val_loss: 0.0147\n",
      "Epoch 101/200\n",
      "60000/60000 [==============================] - 80s 1ms/step - loss: 0.0149 - val_loss: 0.0147\n",
      "Epoch 102/200\n",
      "60000/60000 [==============================] - 80s 1ms/step - loss: 0.0149 - val_loss: 0.0148\n",
      "Epoch 103/200\n",
      "60000/60000 [==============================] - 79s 1ms/step - loss: 0.0149 - val_loss: 0.0146\n",
      "Epoch 104/200\n",
      "60000/60000 [==============================] - 79s 1ms/step - loss: 0.0149 - val_loss: 0.0146\n",
      "Epoch 105/200\n",
      "60000/60000 [==============================] - 79s 1ms/step - loss: 0.0148 - val_loss: 0.0146\n",
      "Epoch 106/200\n",
      "60000/60000 [==============================] - 79s 1ms/step - loss: 0.0148 - val_loss: 0.0148\n",
      "Epoch 107/200\n",
      "60000/60000 [==============================] - 79s 1ms/step - loss: 0.0148 - val_loss: 0.0145\n",
      "Epoch 108/200\n",
      "60000/60000 [==============================] - 79s 1ms/step - loss: 0.0147 - val_loss: 0.0145\n",
      "Epoch 109/200\n",
      "60000/60000 [==============================] - 80s 1ms/step - loss: 0.0147 - val_loss: 0.0145\n",
      "Epoch 110/200\n",
      "60000/60000 [==============================] - 80s 1ms/step - loss: 0.0146 - val_loss: 0.0144\n",
      "Epoch 111/200\n",
      "60000/60000 [==============================] - 79s 1ms/step - loss: 0.0146 - val_loss: 0.0144\n",
      "Epoch 112/200\n",
      "60000/60000 [==============================] - 79s 1ms/step - loss: 0.0146 - val_loss: 0.0145\n",
      "Epoch 113/200\n",
      "60000/60000 [==============================] - 79s 1ms/step - loss: 0.0146 - val_loss: 0.0143\n",
      "Epoch 114/200\n",
      "60000/60000 [==============================] - 79s 1ms/step - loss: 0.0145 - val_loss: 0.0143\n",
      "Epoch 115/200\n",
      "60000/60000 [==============================] - 79s 1ms/step - loss: 0.0145 - val_loss: 0.0143\n",
      "Epoch 116/200\n",
      "60000/60000 [==============================] - 79s 1ms/step - loss: 0.0145 - val_loss: 0.0143\n",
      "Epoch 117/200\n",
      "60000/60000 [==============================] - 79s 1ms/step - loss: 0.0145 - val_loss: 0.0142\n",
      "Epoch 118/200\n",
      "60000/60000 [==============================] - 79s 1ms/step - loss: 0.0144 - val_loss: 0.0142\n",
      "Epoch 119/200\n",
      "60000/60000 [==============================] - 79s 1ms/step - loss: 0.0144 - val_loss: 0.0144\n",
      "Epoch 120/200\n",
      "60000/60000 [==============================] - 79s 1ms/step - loss: 0.0144 - val_loss: 0.0142\n",
      "Epoch 121/200\n",
      "60000/60000 [==============================] - 79s 1ms/step - loss: 0.0144 - val_loss: 0.0141\n",
      "Epoch 122/200\n",
      "60000/60000 [==============================] - 79s 1ms/step - loss: 0.0144 - val_loss: 0.0141\n",
      "Epoch 123/200\n",
      "60000/60000 [==============================] - 79s 1ms/step - loss: 0.0143 - val_loss: 0.0141\n",
      "Epoch 124/200\n",
      "60000/60000 [==============================] - 79s 1ms/step - loss: 0.0143 - val_loss: 0.0141\n",
      "Epoch 125/200\n",
      "60000/60000 [==============================] - 80s 1ms/step - loss: 0.0143 - val_loss: 0.0141\n",
      "Epoch 126/200\n",
      "60000/60000 [==============================] - 79s 1ms/step - loss: 0.0143 - val_loss: 0.0141\n",
      "Epoch 127/200\n",
      "60000/60000 [==============================] - 81s 1ms/step - loss: 0.0143 - val_loss: 0.0140\n",
      "Epoch 128/200\n",
      "60000/60000 [==============================] - 79s 1ms/step - loss: 0.0142 - val_loss: 0.0140\n",
      "Epoch 129/200\n",
      "60000/60000 [==============================] - 79s 1ms/step - loss: 0.0142 - val_loss: 0.0140\n",
      "Epoch 130/200\n",
      "60000/60000 [==============================] - 79s 1ms/step - loss: 0.0142 - val_loss: 0.0139\n",
      "Epoch 131/200\n",
      "60000/60000 [==============================] - 79s 1ms/step - loss: 0.0141 - val_loss: 0.0139\n",
      "Epoch 132/200\n",
      "60000/60000 [==============================] - 80s 1ms/step - loss: 0.0141 - val_loss: 0.0139\n",
      "Epoch 133/200\n",
      "60000/60000 [==============================] - 79s 1ms/step - loss: 0.0141 - val_loss: 0.0140\n",
      "Epoch 134/200\n",
      "60000/60000 [==============================] - 79s 1ms/step - loss: 0.0141 - val_loss: 0.0140\n",
      "Epoch 135/200\n",
      "60000/60000 [==============================] - 80s 1ms/step - loss: 0.0141 - val_loss: 0.0139\n",
      "Epoch 136/200\n",
      "60000/60000 [==============================] - 81s 1ms/step - loss: 0.0140 - val_loss: 0.0138\n",
      "Epoch 137/200\n",
      "60000/60000 [==============================] - 80s 1ms/step - loss: 0.0140 - val_loss: 0.0138\n",
      "Epoch 138/200\n",
      "60000/60000 [==============================] - 79s 1ms/step - loss: 0.0140 - val_loss: 0.0138\n",
      "Epoch 139/200\n",
      "60000/60000 [==============================] - 80s 1ms/step - loss: 0.0140 - val_loss: 0.0137\n",
      "Epoch 140/200\n",
      "60000/60000 [==============================] - 79s 1ms/step - loss: 0.0140 - val_loss: 0.0138\n",
      "Epoch 141/200\n",
      "60000/60000 [==============================] - 79s 1ms/step - loss: 0.0140 - val_loss: 0.0137\n",
      "Epoch 142/200\n",
      "60000/60000 [==============================] - 79s 1ms/step - loss: 0.0139 - val_loss: 0.0138\n",
      "Epoch 143/200\n",
      "60000/60000 [==============================] - 79s 1ms/step - loss: 0.0139 - val_loss: 0.0137\n",
      "Epoch 144/200\n",
      "60000/60000 [==============================] - 79s 1ms/step - loss: 0.0139 - val_loss: 0.0137\n",
      "Epoch 145/200\n",
      "60000/60000 [==============================] - 80s 1ms/step - loss: 0.0139 - val_loss: 0.0136\n",
      "Epoch 146/200\n",
      "60000/60000 [==============================] - 79s 1ms/step - loss: 0.0138 - val_loss: 0.0136\n",
      "Epoch 147/200\n",
      "60000/60000 [==============================] - 80s 1ms/step - loss: 0.0138 - val_loss: 0.0136\n",
      "Epoch 148/200\n",
      "60000/60000 [==============================] - 79s 1ms/step - loss: 0.0138 - val_loss: 0.0137\n",
      "Epoch 149/200\n",
      "60000/60000 [==============================] - 79s 1ms/step - loss: 0.0138 - val_loss: 0.0135\n",
      "Epoch 150/200\n",
      "60000/60000 [==============================] - 79s 1ms/step - loss: 0.0138 - val_loss: 0.0136\n",
      "Epoch 151/200\n",
      "60000/60000 [==============================] - 82s 1ms/step - loss: 0.0137 - val_loss: 0.0135\n",
      "Epoch 152/200\n",
      "60000/60000 [==============================] - 79s 1ms/step - loss: 0.0138 - val_loss: 0.0135\n",
      "Epoch 153/200\n",
      "60000/60000 [==============================] - 79s 1ms/step - loss: 0.0137 - val_loss: 0.0135\n",
      "Epoch 154/200\n",
      "60000/60000 [==============================] - 80s 1ms/step - loss: 0.0137 - val_loss: 0.0135\n",
      "Epoch 155/200\n",
      "60000/60000 [==============================] - 79s 1ms/step - loss: 0.0137 - val_loss: 0.0134\n",
      "Epoch 156/200\n",
      "60000/60000 [==============================] - 80s 1ms/step - loss: 0.0137 - val_loss: 0.0135\n",
      "Epoch 157/200\n",
      "60000/60000 [==============================] - 80s 1ms/step - loss: 0.0136 - val_loss: 0.0135\n",
      "Epoch 158/200\n",
      "60000/60000 [==============================] - 79s 1ms/step - loss: 0.0136 - val_loss: 0.0134\n",
      "Epoch 159/200\n",
      "60000/60000 [==============================] - 79s 1ms/step - loss: 0.0136 - val_loss: 0.0134\n",
      "Epoch 160/200\n",
      "60000/60000 [==============================] - 79s 1ms/step - loss: 0.0136 - val_loss: 0.0134\n",
      "Epoch 161/200\n",
      "60000/60000 [==============================] - 80s 1ms/step - loss: 0.0136 - val_loss: 0.0134\n",
      "Epoch 162/200\n",
      "60000/60000 [==============================] - 80s 1ms/step - loss: 0.0136 - val_loss: 0.0133\n",
      "Epoch 163/200\n",
      "60000/60000 [==============================] - 79s 1ms/step - loss: 0.0135 - val_loss: 0.0133\n",
      "Epoch 164/200\n",
      "60000/60000 [==============================] - 79s 1ms/step - loss: 0.0135 - val_loss: 0.0135\n",
      "Epoch 165/200\n",
      "60000/60000 [==============================] - 79s 1ms/step - loss: 0.0135 - val_loss: 0.0133\n",
      "Epoch 166/200\n",
      "60000/60000 [==============================] - 79s 1ms/step - loss: 0.0135 - val_loss: 0.0133\n",
      "Epoch 167/200\n",
      "60000/60000 [==============================] - 79s 1ms/step - loss: 0.0135 - val_loss: 0.0132\n",
      "Epoch 168/200\n",
      "60000/60000 [==============================] - 79s 1ms/step - loss: 0.0134 - val_loss: 0.0132\n",
      "Epoch 169/200\n",
      "60000/60000 [==============================] - 79s 1ms/step - loss: 0.0135 - val_loss: 0.0133\n",
      "Epoch 170/200\n",
      "60000/60000 [==============================] - 79s 1ms/step - loss: 0.0134 - val_loss: 0.0132\n",
      "Epoch 171/200\n",
      "60000/60000 [==============================] - 80s 1ms/step - loss: 0.0134 - val_loss: 0.0132\n",
      "Epoch 172/200\n",
      "60000/60000 [==============================] - 79s 1ms/step - loss: 0.0134 - val_loss: 0.0132\n",
      "Epoch 173/200\n",
      "60000/60000 [==============================] - 79s 1ms/step - loss: 0.0134 - val_loss: 0.0132\n",
      "Epoch 174/200\n",
      "60000/60000 [==============================] - 79s 1ms/step - loss: 0.0134 - val_loss: 0.0131\n",
      "Epoch 175/200\n",
      "60000/60000 [==============================] - 79s 1ms/step - loss: 0.0134 - val_loss: 0.0131\n",
      "Epoch 176/200\n",
      "60000/60000 [==============================] - 79s 1ms/step - loss: 0.0133 - val_loss: 0.0131\n",
      "Epoch 177/200\n",
      "60000/60000 [==============================] - 79s 1ms/step - loss: 0.0134 - val_loss: 0.0131\n",
      "Epoch 178/200\n",
      "60000/60000 [==============================] - 79s 1ms/step - loss: 0.0133 - val_loss: 0.0131\n",
      "Epoch 179/200\n",
      "60000/60000 [==============================] - 79s 1ms/step - loss: 0.0133 - val_loss: 0.0131\n",
      "Epoch 180/200\n",
      "60000/60000 [==============================] - 79s 1ms/step - loss: 0.0133 - val_loss: 0.0130\n",
      "Epoch 181/200\n",
      "60000/60000 [==============================] - 79s 1ms/step - loss: 0.0133 - val_loss: 0.0131\n",
      "Epoch 182/200\n",
      "60000/60000 [==============================] - 80s 1ms/step - loss: 0.0132 - val_loss: 0.0130\n",
      "Epoch 183/200\n",
      "60000/60000 [==============================] - 79s 1ms/step - loss: 0.0132 - val_loss: 0.0130\n",
      "Epoch 184/200\n",
      "60000/60000 [==============================] - 80s 1ms/step - loss: 0.0132 - val_loss: 0.0130\n",
      "Epoch 185/200\n",
      "60000/60000 [==============================] - 79s 1ms/step - loss: 0.0132 - val_loss: 0.0130\n",
      "Epoch 186/200\n",
      "60000/60000 [==============================] - 79s 1ms/step - loss: 0.0132 - val_loss: 0.0130\n",
      "Epoch 187/200\n",
      "60000/60000 [==============================] - 79s 1ms/step - loss: 0.0132 - val_loss: 0.0130\n",
      "Epoch 188/200\n",
      "60000/60000 [==============================] - 81s 1ms/step - loss: 0.0132 - val_loss: 0.0130\n",
      "Epoch 189/200\n",
      "60000/60000 [==============================] - 80s 1ms/step - loss: 0.0132 - val_loss: 0.0130\n",
      "Epoch 190/200\n",
      "60000/60000 [==============================] - 79s 1ms/step - loss: 0.0131 - val_loss: 0.0129\n",
      "Epoch 191/200\n",
      "60000/60000 [==============================] - 79s 1ms/step - loss: 0.0131 - val_loss: 0.0129\n",
      "Epoch 192/200\n",
      "60000/60000 [==============================] - 80s 1ms/step - loss: 0.0132 - val_loss: 0.0129\n",
      "Epoch 193/200\n",
      "60000/60000 [==============================] - 80s 1ms/step - loss: 0.0131 - val_loss: 0.0129\n",
      "Epoch 194/200\n",
      "60000/60000 [==============================] - 79s 1ms/step - loss: 0.0131 - val_loss: 0.0129\n",
      "Epoch 195/200\n",
      "60000/60000 [==============================] - 79s 1ms/step - loss: 0.0131 - val_loss: 0.0129\n",
      "Epoch 196/200\n",
      "60000/60000 [==============================] - 79s 1ms/step - loss: 0.0131 - val_loss: 0.0129\n",
      "Epoch 197/200\n",
      "60000/60000 [==============================] - 79s 1ms/step - loss: 0.0131 - val_loss: 0.0129\n",
      "Epoch 198/200\n",
      "60000/60000 [==============================] - 79s 1ms/step - loss: 0.0130 - val_loss: 0.0128\n",
      "Epoch 199/200\n",
      "60000/60000 [==============================] - 82s 1ms/step - loss: 0.0130 - val_loss: 0.0128\n",
      "Epoch 200/200\n",
      "60000/60000 [==============================] - 79s 1ms/step - loss: 0.0130 - val_loss: 0.0128\n",
      "Total time it took to train autoencoder is  16031.9839990139  seconds\n"
     ]
    }
   ],
   "source": [
    "start_time = time.time()\n",
    "train_history = autoencoder.fit(train_x, train_x, epochs=200, batch_size=2048, validation_data=(test_x, test_x))\n",
    "print(\"Total time it took to train autoencoder is \", time.time() - start_time, \" seconds\")"
   ]
  },
  {
   "cell_type": "code",
   "execution_count": 16,
   "metadata": {},
   "outputs": [],
   "source": [
    "# save the trained model\n",
    "autoencoder.save('indexing_mnist_autoencoder.h5')"
   ]
  },
  {
   "cell_type": "code",
   "execution_count": 64,
   "metadata": {},
   "outputs": [
    {
     "name": "stdout",
     "output_type": "stream",
     "text": [
      "Model loaded in:  2.153085947036743\n"
     ]
    }
   ],
   "source": [
    "from keras.models import load_model\n",
    "start_time = time.time()\n",
    "autoencoder = load_model('indexing_mnist_autoencoder.h5')\n",
    "encoder = Model(inputs=autoencoder.input, outputs=autoencoder.get_layer('encoder').output)\n",
    "print('Model loaded in: ', time.time() - start_time)"
   ]
  },
  {
   "cell_type": "code",
   "execution_count": 66,
   "metadata": {},
   "outputs": [
    {
     "name": "stdout",
     "output_type": "stream",
     "text": [
      "(60000, 128)\n"
     ]
    }
   ],
   "source": [
    "# encode database of images\n",
    "codes = encoder.predict(train_x)\n",
    "\n",
    "codes = codes.reshape(-1, 4*4*8)\n",
    "\n",
    "# train for closest images using nearest neighbour\n",
    "from sklearn.neighbors import NearestNeighbors\n",
    "k = 5\n",
    "knn = NearestNeighbors(n_neighbors=k).fit(codes)\n",
    "\n",
    "print(codes.shape)"
   ]
  },
  {
   "cell_type": "code",
   "execution_count": 67,
   "metadata": {},
   "outputs": [
    {
     "name": "stdout",
     "output_type": "stream",
     "text": [
      "Query Images:\n"
     ]
    },
    {
     "data": {
      "image/png": "[encoded data removed]",
      "text/plain": [
       "<Figure size 1440x720 with 5 Axes>"
      ]
     },
     "metadata": {
      "needs_background": "light"
     },
     "output_type": "display_data"
    }
   ],
   "source": [
    "query_indices = np.random.randint(test_x.shape[0], size=5)\n",
    "query_images = test_x[query_indices]\n",
    "fig=plt.figure(figsize=(20, 10))\n",
    "columns = 3\n",
    "rows = 2\n",
    "print(\"Query Images:\")\n",
    "for idx, image in enumerate(query_images):\n",
    "    fig.add_subplot(rows, columns, idx + 1)\n",
    "    plt.imshow(np.squeeze(image), cmap=\"gray\")\n",
    "plt.show()"
   ]
  },
  {
   "cell_type": "code",
   "execution_count": 68,
   "metadata": {},
   "outputs": [
    {
     "name": "stdout",
     "output_type": "stream",
     "text": [
      "(5, 128)\n"
     ]
    }
   ],
   "source": [
    "query_codes = encoder.predict(query_images)\n",
    "query_codes = query_codes.reshape(-1, 4*4*8)\n",
    "print(query_codes.shape)"
   ]
  },
  {
   "cell_type": "code",
   "execution_count": 69,
   "metadata": {},
   "outputs": [
    {
     "data": {
      "image/png": "[encoded data removed]",
      "text/plain": [
       "<Figure size 432x288 with 1 Axes>"
      ]
     },
     "metadata": {
      "needs_background": "light"
     },
     "output_type": "display_data"
    },
    {
     "data": {
      "image/png": "[encoded data removed]",
      "text/plain": [
       "<Figure size 1440x432 with 5 Axes>"
      ]
     },
     "metadata": {
      "needs_background": "light"
     },
     "output_type": "display_data"
    },
    {
     "data": {
      "image/png": "[encoded data removed]",
      "text/plain": [
       "<Figure size 432x288 with 1 Axes>"
      ]
     },
     "metadata": {
      "needs_background": "light"
     },
     "output_type": "display_data"
    },
    {
     "data": {
      "image/png": "[encoded data removed]",
      "text/plain": [
       "<Figure size 1440x432 with 5 Axes>"
      ]
     },
     "metadata": {
      "needs_background": "light"
     },
     "output_type": "display_data"
    },
    {
     "data": {
      "image/png": "[encoded data removed]",
      "text/plain": [
       "<Figure size 432x288 with 1 Axes>"
      ]
     },
     "metadata": {
      "needs_background": "light"
     },
     "output_type": "display_data"
    },
    {
     "data": {
      "image/png": "[encoded data removed]",
      "text/plain": [
       "<Figure size 1440x432 with 5 Axes>"
      ]
     },
     "metadata": {
      "needs_background": "light"
     },
     "output_type": "display_data"
    },
    {
     "data": {
      "image/png": "[encoded data removed]",
      "text/plain": [
       "<Figure size 432x288 with 1 Axes>"
      ]
     },
     "metadata": {
      "needs_background": "light"
     },
     "output_type": "display_data"
    },
    {
     "data": {
      "image/png": "[encoded data removed]",
      "text/plain": [
       "<Figure size 1440x432 with 5 Axes>"
      ]
     },
     "metadata": {
      "needs_background": "light"
     },
     "output_type": "display_data"
    },
    {
     "data": {
      "image/png": "[encoded data removed]",
      "text/plain": [
       "<Figure size 432x288 with 1 Axes>"
      ]
     },
     "metadata": {
      "needs_background": "light"
     },
     "output_type": "display_data"
    },
    {
     "data": {
      "image/png": "[encoded data removed]",
      "text/plain": [
       "<Figure size 1440x432 with 5 Axes>"
      ]
     },
     "metadata": {
      "needs_background": "light"
     },
     "output_type": "display_data"
    }
   ],
   "source": [
    "distances, indices = knn.kneighbors(query_codes)\n",
    "for i in range(len(query_codes)):\n",
    "    closest_images = train_x[indices[i]]\n",
    "    plt.imshow(query_images[i].reshape(28, 28), cmap='gray')\n",
    "    plt.figure(figsize=(20, 6))\n",
    "    for j in range(k):\n",
    "        ax = plt.subplot(1, k, j+1)\n",
    "        plt.imshow(closest_images[j].reshape(28, 28))\n",
    "        plt.gray()\n",
    "        ax.get_xaxis().set_visible(False)\n",
    "        ax.get_yaxis().set_visible(False)\n",
    "    plt.show()"
   ]
  },
  {
   "cell_type": "code",
   "execution_count": 80,
   "metadata": {},
   "outputs": [
    {
     "name": "stdout",
     "output_type": "stream",
     "text": [
      "(10000, 128)\n"
     ]
    }
   ],
   "source": [
    "# Get the test codes\n",
    "test_codes = encoder.predict(test_x)\n",
    "test_codes = test_codes.reshape(-1, 4*4*8)\n",
    "print(test_codes.shape)"
   ]
  },
  {
   "cell_type": "code",
   "execution_count": 82,
   "metadata": {},
   "outputs": [
    {
     "name": "stdout",
     "output_type": "stream",
     "text": [
      "Score for top 100 images retrieved: 0.8796940804475802\n",
      "Score for top 1000 images retrieved: 0.7556212370663866\n"
     ]
    }
   ],
   "source": [
    "# Compute the accuracy score for the model\n",
    "from sklearn.metrics import label_ranking_average_precision_score\n",
    "scores = []\n",
    "for num_retrieved in [100, 1000]:\n",
    "    # For each num_retrieved (=number of retrieved images to assess) we store the corresponding labels and distances\n",
    "    out_labels = []\n",
    "    out_distances = []\n",
    "    for i in range(len(test_codes)):\n",
    "        distances = []\n",
    "        for code in codes:\n",
    "            distance = np.linalg.norm(code - test_codes[i])\n",
    "            distances.append(distance)\n",
    "        # Store the computed distances and corresponding labels from training dataset\n",
    "        distances = np.array(distances)\n",
    "        # Scoring function needs to replace similar labels by 1 and different ones by 0\n",
    "        labels = np.copy(train_y).astype('float32')\n",
    "        labels[labels != test_y[i]] = -1\n",
    "        labels[labels == test_y[i]] = 1\n",
    "        labels[labels == -1] = 0\n",
    "        distance_with_labels = np.stack((distances, labels), axis=-1)\n",
    "        sorted_distance_with_labels = distance_with_labels[distance_with_labels[:, 0].argsort()]\n",
    "        # The distances are between 0 and 28. The lesser the distance the bigger the relevance score should be\n",
    "        sorted_distances = 28 - sorted_distance_with_labels[:, 0]\n",
    "        sorted_labels = sorted_distance_with_labels[:, 1]\n",
    "        # We keep only num_retrieved closest elements from the images retrieved\n",
    "        out_distances.append(sorted_distances[:num_retrieved])\n",
    "        out_labels.append(sorted_labels[:num_retrieved])\n",
    "    out_labels = np.array(out_labels)\n",
    "    out_distances = np.array(out_distances)\n",
    "    score = label_ranking_average_precision_score(out_labels, out_distances)\n",
    "    print(\"Score for top {} images retrieved: {}\".format(num_retrieved, score))\n",
    "    scores.append(score)\n"
   ]
  },
  {
   "cell_type": "code",
   "execution_count": null,
   "metadata": {},
   "outputs": [],
   "source": []
  }
 ],
 "metadata": {
  "kernelspec": {
   "display_name": "Python 3",
   "language": "python",
   "name": "python3"
  },
  "language_info": {
   "codemirror_mode": {
    "name": "ipython",
    "version": 3
   },
   "file_extension": ".py",
   "mimetype": "text/x-python",
   "name": "python",
   "nbconvert_exporter": "python",
   "pygments_lexer": "ipython3",
   "version": "3.6.8"
  }
 },
 "nbformat": 4,
 "nbformat_minor": 2
}
